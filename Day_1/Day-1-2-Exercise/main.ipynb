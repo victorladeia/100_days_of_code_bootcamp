{
 "cells": [
  {
   "cell_type": "markdown",
   "metadata": {},
   "source": [
    "Correct the following code:\n",
    "\n",
    "#Fix the code below 👇\n",
    "\n",
    "print(Day 1 - String Manipulation\")\n",
    "print(\"String Concatenation is done with the \"+\" sign.\")\n",
    "  print('e.g. print(\"Hello \" + \"world\")')\n",
    "print((\"New lines can be created with a backslash and n.\")"
   ]
  },
  {
   "cell_type": "code",
   "execution_count": 1,
   "metadata": {},
   "outputs": [
    {
     "name": "stdout",
     "output_type": "stream",
     "text": [
      "Day 1 - String Manipulation\n",
      "String Concatenation is done with the '+' sign.\n",
      "e.g. print(\"Hello \" + \"world\")\n",
      "New lines can be created with a backslash and n.\n"
     ]
    }
   ],
   "source": [
    "#1. print(Day 1 - String Manipulation\")\n",
    "# Missing double quotes:\n",
    "print(\"Day 1 - String Manipulation\")\n",
    "\n",
    "#2. print(\"String Concatenation is done with the \"+\" sign.\")\n",
    "# both outer and inner double quotes: changing one of them to single:\n",
    "print('String Concatenation is done with the \"+\" sign.')\n",
    "\n",
    "#3.  print('e.g. print(\"Hello \" + \"world\")')\n",
    "# Identation error:\n",
    "print('e.g. print(\"Hello \" + \"world\")')\n",
    "\n",
    "#4. print((\"New lines can be created with a backslash and n.\")\n",
    "# Extra parentesis - removing one of them:\n",
    "print(\"New lines can be created with a backslash and n.\")"
   ]
  }
 ],
 "metadata": {
  "kernelspec": {
   "display_name": "base",
   "language": "python",
   "name": "python3"
  },
  "language_info": {
   "codemirror_mode": {
    "name": "ipython",
    "version": 3
   },
   "file_extension": ".py",
   "mimetype": "text/x-python",
   "name": "python",
   "nbconvert_exporter": "python",
   "pygments_lexer": "ipython3",
   "version": "3.10.6"
  },
  "orig_nbformat": 4
 },
 "nbformat": 4,
 "nbformat_minor": 2
}
