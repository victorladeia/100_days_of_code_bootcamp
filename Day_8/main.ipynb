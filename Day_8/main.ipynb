{
 "cells": [
  {
   "cell_type": "markdown",
   "metadata": {},
   "source": [
    "# Day 8 - Functions with Inpus"
   ]
  },
  {
   "cell_type": "code",
   "execution_count": 1,
   "metadata": {},
   "outputs": [
    {
     "name": "stdout",
     "output_type": "stream",
     "text": [
      "Hi!\n",
      "Hi!\n",
      "Hi!\n"
     ]
    }
   ],
   "source": [
    "# Day 8 - Start\n",
    "\n",
    "def greet():\n",
    "    print( \"Hi!\" )\n",
    "    print( \"Hi!\" )\n",
    "    print( \"Hi!\" )\n",
    "\n",
    "greet()"
   ]
  },
  {
   "cell_type": "code",
   "execution_count": 5,
   "metadata": {},
   "outputs": [
    {
     "name": "stdout",
     "output_type": "stream",
     "text": [
      "Hello Victor\n",
      "How do you do Victor?\n"
     ]
    }
   ],
   "source": [
    "# Function that allows for input:\n",
    "\n",
    "def greet_with_name( name ):\n",
    "    print( f\"Hello {name}\" )\n",
    "    print( f\"How do you do {name}?\")\n",
    "\n",
    "greet_with_name('Victor')"
   ]
  },
  {
   "cell_type": "code",
   "execution_count": 8,
   "metadata": {},
   "outputs": [
    {
     "name": "stdout",
     "output_type": "stream",
     "text": [
      "Hello Victor!\n",
      "What is it like in Montes Claros?\n"
     ]
    }
   ],
   "source": [
    "# Function with more than 1 input:\n",
    "\n",
    "def greet_with(name, location):\n",
    "    print( f\"Hello {name}!\" )\n",
    "    print( f\"What is it like in {location}?\" )\n",
    "\n",
    "greet_with(\"Victor\", \"Montes Claros\")\n"
   ]
  },
  {
   "cell_type": "code",
   "execution_count": 9,
   "metadata": {},
   "outputs": [
    {
     "name": "stdout",
     "output_type": "stream",
     "text": [
      "Hello Victor!\n",
      "What is it like in Montes Claros?\n"
     ]
    }
   ],
   "source": [
    "greet_with( location = \"Montes Claros\", name = \"Victor\") "
   ]
  }
 ],
 "metadata": {
  "kernelspec": {
   "display_name": "base",
   "language": "python",
   "name": "python3"
  },
  "language_info": {
   "codemirror_mode": {
    "name": "ipython",
    "version": 3
   },
   "file_extension": ".py",
   "mimetype": "text/x-python",
   "name": "python",
   "nbconvert_exporter": "python",
   "pygments_lexer": "ipython3",
   "version": "3.10.6"
  },
  "orig_nbformat": 4
 },
 "nbformat": 4,
 "nbformat_minor": 2
}
