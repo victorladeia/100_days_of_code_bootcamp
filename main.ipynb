{
 "cells": [
  {
   "cell_type": "markdown",
   "metadata": {},
   "source": [
    "# Day 9: Python Dictionary -Deep Dive"
   ]
  },
  {
   "cell_type": "code",
   "execution_count": null,
   "metadata": {},
   "outputs": [],
   "source": [
    "programming_dictionary = {\n",
    "    \"Bug\": \"An erro in a program tha prevent the program from running as expected.\",\n",
    "    \"Function\": \"A piece of code that you can easily call over and over again.\"\n",
    "}"
   ]
  },
  {
   "cell_type": "code",
   "execution_count": null,
   "metadata": {},
   "outputs": [],
   "source": [
    "# Retrievinf items from a dictionary:\n",
    "print( programming_dictionary[\"Function\"] )"
   ]
  },
  {
   "cell_type": "code",
   "execution_count": null,
   "metadata": {},
   "outputs": [],
   "source": [
    "# Adding new items to dictionary:\n",
    "programming_dictionary[ \"Loop\" ] = \"The action of doing something over and over again.\""
   ]
  },
  {
   "cell_type": "code",
   "execution_count": null,
   "metadata": {},
   "outputs": [],
   "source": [
    "programming_dictionary"
   ]
  },
  {
   "cell_type": "code",
   "execution_count": null,
   "metadata": {},
   "outputs": [],
   "source": [
    "# Create an empty dictionary.\n",
    "empty_dictionary = {}\n"
   ]
  },
  {
   "cell_type": "code",
   "execution_count": null,
   "metadata": {},
   "outputs": [],
   "source": [
    "# Wipe an existing dictionary:\n",
    "programming_dictionary = {}\n",
    "programming_dictionary"
   ]
  },
  {
   "cell_type": "code",
   "execution_count": null,
   "metadata": {},
   "outputs": [],
   "source": [
    "# Edit an item in a dictionary:\n",
    "programming_dictionary[ \"Bug\" ] = \"A moth in your computer.\"\n",
    "programming_dictionary"
   ]
  },
  {
   "cell_type": "code",
   "execution_count": null,
   "metadata": {},
   "outputs": [],
   "source": [
    "# Loop through a dictionary:\n",
    "for key in programming_dictionary:\n",
    "    print( key )\n",
    "    print( programming_dictionary[ key ] )"
   ]
  },
  {
   "cell_type": "markdown",
   "metadata": {},
   "source": [
    "### Nesting:"
   ]
  },
  {
   "cell_type": "code",
   "execution_count": null,
   "metadata": {},
   "outputs": [],
   "source": [
    "capitals = {\n",
    "    \"France\": \"Paris\",\n",
    "    \"German\": \"Berlin\",\n",
    "}\n",
    "\n",
    "# Nesting a List in a Dictionary:\n",
    "\n",
    "travel_log = {\n",
    "    \"France\": [ \"Paris\", \"Lille\", \"Dijon\" ],\n",
    "    \"Germany\": [ \"Berlin\", \"Hamburg\", \"Stuttgart\" ],\n",
    "}"
   ]
  },
  {
   "cell_type": "code",
   "execution_count": null,
   "metadata": {},
   "outputs": [],
   "source": [
    "# Nesting a dictionary into a dictionary:\n",
    "\n",
    "travel_log = {\n",
    "    \"France\": {\n",
    "        \"city_name\": [ \"Paris\", \"Lille\", \"Dijon\" ],\n",
    "        \"cities_visited\": 3\n",
    "    },\n",
    "    \"German\": {\n",
    "        \"city_name\": [ \"Berlin\", \"Hamburg\", \"Stuttgart\" ],\n",
    "        \"cities_visited\": 3\n",
    "    }\n",
    "}"
   ]
  },
  {
   "cell_type": "markdown",
   "metadata": {},
   "source": [
    "### Nesting a Dictionary in a List"
   ]
  },
  {
   "cell_type": "code",
   "execution_count": null,
   "metadata": {},
   "outputs": [],
   "source": [
    "travel_log = [\n",
    "    {\n",
    "        \"country\": \"France\",\n",
    "        \"cities_visited\": [ \"Paris\", \"Lille\", \"Dijon\" ],\n",
    "        \"total_visits\": 12\n",
    "    },\n",
    "    {\n",
    "        \"country\": \"German\",\n",
    "        \"city_name\": [ \"Berlin\", \"Hamburg\", \"Stuttgart\" ],\n",
    "        \"cities_visited\": 5\n",
    "    }\n",
    "]"
   ]
  },
  {
   "cell_type": "markdown",
   "metadata": {},
   "source": [
    "#### Testing cases for exercises:"
   ]
  },
  {
   "cell_type": "code",
   "execution_count": null,
   "metadata": {},
   "outputs": [],
   "source": [
    "dict = {\n",
    "    \"a\": 1,\n",
    "    \"b\": 2,\n",
    "    \"c\": 3,\n",
    "}\n",
    "dict"
   ]
  },
  {
   "cell_type": "code",
   "execution_count": null,
   "metadata": {},
   "outputs": [],
   "source": [
    "dict[ 1 ] = 4"
   ]
  },
  {
   "cell_type": "code",
   "execution_count": null,
   "metadata": {},
   "outputs": [],
   "source": [
    "dict"
   ]
  },
  {
   "cell_type": "code",
   "execution_count": null,
   "metadata": {},
   "outputs": [],
   "source": [
    "print( dict[1] )"
   ]
  },
  {
   "cell_type": "markdown",
   "metadata": {},
   "source": [
    "# Day 10 - Functions with Outpus"
   ]
  },
  {
   "cell_type": "code",
   "execution_count": null,
   "metadata": {},
   "outputs": [],
   "source": [
    "# Functions with Outputs\n",
    "\n",
    "def format_name( f_name, l_name ):\n",
    "    f_name = f_name.title()\n",
    "    l_name = l_name.title()\n",
    "\n",
    "    print( f_name, l_name )\n",
    "\n",
    "format_name( \"VICTOR\", 'victor' )"
   ]
  },
  {
   "cell_type": "code",
   "execution_count": null,
   "metadata": {},
   "outputs": [],
   "source": [
    "# Using return instead of print:\n",
    "\n",
    "def format_name( f_name, l_name ):\n",
    "    formated_f_name = f_name.title()\n",
    "    formated_l_name = l_name.title()\n",
    "\n",
    "    return f\"{formated_f_name} {formated_l_name}\"\n",
    "\n",
    "formated_string = format_name( \"VICTOR\", 'victor' )\n",
    "print( formated_string )"
   ]
  },
  {
   "cell_type": "code",
   "execution_count": null,
   "metadata": {},
   "outputs": [],
   "source": [
    "# ...or\n",
    "\n",
    "print( format_name( \"ArTHUr\", \"LADEIa\") )"
   ]
  },
  {
   "cell_type": "code",
   "execution_count": null,
   "metadata": {},
   "outputs": [],
   "source": [
    "# the keyword return tells the computer to get out of the function:\n",
    "\n",
    "def format_name( f_name, l_name ):\n",
    "    if ( f_name == \"\" ) or ( l_name == \"\" ):\n",
    "        return\n",
    "    formated_f_name = f_name.title()\n",
    "    formated_l_name = l_name.title()\n",
    "\n",
    "    return f\"Result: {formated_f_name} {formated_l_name}\"\n",
    "\n",
    "\n",
    "print( format_name( input( \"What's your first name? \"), input( \"What's your last name\" ) ) )"
   ]
  },
  {
   "cell_type": "code",
   "execution_count": null,
   "metadata": {},
   "outputs": [],
   "source": [
    "# the keyword return tells the computer to get out of the function:\n",
    "\n",
    "def format_name( f_name, l_name ):\n",
    "    if ( f_name == \"\" ) or ( l_name == \"\" ):\n",
    "        return \"You didn't provide valid inputs.\"\n",
    "    formated_f_name = f_name.title()\n",
    "    formated_l_name = l_name.title()\n",
    "\n",
    "    return f\"Result: {formated_f_name} {formated_l_name}\"\n",
    "\n",
    "\n",
    "print( format_name( input( \"What's your first name? \"), input( \"What's your last name\" ) ) )"
   ]
  },
  {
   "cell_type": "markdown",
   "metadata": {},
   "source": [
    "### Docstrings"
   ]
  },
  {
   "cell_type": "code",
   "execution_count": null,
   "metadata": {},
   "outputs": [],
   "source": [
    "def format_name( f_name, l_name ):\n",
    "    \"\"\"Take a first and last name and format it to return the title case version of the name.\"\"\"\n",
    "    if ( f_name == \"\" ) or ( l_name == \"\" ):\n",
    "        return \"You didn't provide valid inputs.\"\n",
    "    formated_f_name = f_name.title()\n",
    "    formated_l_name = l_name.title()\n",
    "\n",
    "    return f\"Result: {formated_f_name} {formated_l_name}\""
   ]
  },
  {
   "cell_type": "markdown",
   "metadata": {},
   "source": [
    "# Day 12 - Local vs. Global Scope"
   ]
  },
  {
   "cell_type": "code",
   "execution_count": null,
   "metadata": {},
   "outputs": [],
   "source": [
    "################ SCOPE ####################\n",
    "\n",
    "enemies = 1\n",
    "\n",
    "def increase_enemies():\n",
    "    enemies = 2\n",
    "    print( f\"enemies inside function: {enemies}\" )\n",
    "\n",
    "increase_enemies()\n",
    "print( f\"enemies outside function: {enemies}\" )"
   ]
  },
  {
   "cell_type": "code",
   "execution_count": null,
   "metadata": {},
   "outputs": [],
   "source": [
    "# Local Scope\n",
    "\n",
    "def drink_potion():\n",
    "    potion_strength = 2\n",
    "    print( potion_strength )\n",
    "\n",
    "drink_potion()\n",
    "print(potion_strength) # error - potion_strength was only defined on drink_potion() scope."
   ]
  },
  {
   "cell_type": "code",
   "execution_count": null,
   "metadata": {},
   "outputs": [],
   "source": [
    "# Global Scope:\n",
    "\n",
    "player_health = 10\n",
    "\n",
    "def drink_potion():\n",
    "    potion_strength = 2\n",
    "    print( player_health )\n",
    "\n",
    "drink_potion()"
   ]
  },
  {
   "cell_type": "code",
   "execution_count": null,
   "metadata": {},
   "outputs": [],
   "source": [
    "# There is no block scope:\n",
    "\n",
    "game_level = 3\n",
    "enemies = [ \"Skeleton\", \"Zombie\", \"Alien\"]\n",
    "if game_level < 5 :\n",
    "    new_enemy = enemies[0]\n",
    "print( new_enemy )"
   ]
  },
  {
   "cell_type": "code",
   "execution_count": null,
   "metadata": {},
   "outputs": [],
   "source": [
    "# There is no block scope:\n",
    "\n",
    "game_level = 3\n",
    "def create_enemy():\n",
    "    enemies = [ \"Skeleton\", \"Zombie\", \"Alien\"]\n",
    "    if game_level < 5 :\n",
    "        new_enemy1 = enemies[0]\n",
    "\n",
    "print( new_enemy1 )"
   ]
  },
  {
   "cell_type": "markdown",
   "metadata": {},
   "source": [
    "## How to modify a Global Variable"
   ]
  },
  {
   "cell_type": "code",
   "execution_count": null,
   "metadata": {},
   "outputs": [],
   "source": [
    "# Modifying Global Scope\n",
    "\n",
    "enemies = 1\n",
    "\n",
    "def increase_enemies():\n",
    "    global enemies\n",
    "    enemies += 1\n",
    "    print( f\"enemies inside function: {enemies}\" )\n",
    "\n",
    "increase_enemies()\n",
    "print( f\"enemies outside funtion: {enemies}\" )"
   ]
  },
  {
   "cell_type": "code",
   "execution_count": null,
   "metadata": {},
   "outputs": [],
   "source": [
    "# Modifying Global Scope\n",
    "\n",
    "enemies = 1\n",
    "\n",
    "def increase_enemies():\n",
    "    print( f\"enemies inside function: {enemies}\" )\n",
    "    return enemies + 1\n",
    "\n",
    "enemies = increase_enemies()\n",
    "print( f\"enemies outside funtion: {enemies}\" )"
   ]
  },
  {
   "cell_type": "markdown",
   "metadata": {},
   "source": [
    "## Global Constants:"
   ]
  },
  {
   "cell_type": "code",
   "execution_count": null,
   "metadata": {},
   "outputs": [],
   "source": [
    "# Python convention for these constants is capital letters\n",
    "\n",
    "PI = 3.14159\n",
    "URL = \"https://www.google.com\"\n"
   ]
  },
  {
   "cell_type": "markdown",
   "metadata": {},
   "source": [
    "# Day 13 - Debugging"
   ]
  },
  {
   "cell_type": "markdown",
   "metadata": {},
   "source": [
    "1. Describe the Problem\n",
    "2. Reproduce the Bug\n",
    "3. Play Computer\n",
    "4. Fix the Errors\n",
    "5. Print is your Friend\n",
    "6. Use a Debugger\n",
    "7. Take a break\n",
    "8. Ask a Friend\n",
    "9. Run Often\n",
    "10. Ask StackOverflow"
   ]
  },
  {
   "cell_type": "markdown",
   "metadata": {},
   "source": [
    "## 1 - Describe the Problem"
   ]
  },
  {
   "cell_type": "code",
   "execution_count": null,
   "metadata": {},
   "outputs": [],
   "source": [
    "# Describe the problem:\n",
    "\n",
    "# with bug\n",
    "\n",
    "def my_function():\n",
    "    for i in range( 1, 20 ):\n",
    "        if i == 20:\n",
    "            print( \"You got it!\" )\n",
    "my_function()"
   ]
  },
  {
   "cell_type": "code",
   "execution_count": null,
   "metadata": {},
   "outputs": [],
   "source": [
    "# without bug:\n",
    "def my_function():\n",
    "    for i in range( 1, 21 ):\n",
    "        if i == 20:\n",
    "            print( \"You got it!\" )\n",
    "\n",
    "my_function()        "
   ]
  },
  {
   "cell_type": "markdown",
   "metadata": {},
   "source": [
    "## 2 - Reproduce the bug"
   ]
  },
  {
   "cell_type": "code",
   "execution_count": null,
   "metadata": {},
   "outputs": [],
   "source": [
    "# Reproduce the bug\n",
    "\n",
    "from random import randint\n",
    "\n",
    "dice_imgs = [\"❶\", \"❷\", \"❸\", \"❹\", \"❺\", \"❻\"]\n",
    "dice_num = randint = randint(1, 6)\n",
    "print(dice_imgs[dice_num])"
   ]
  },
  {
   "cell_type": "code",
   "execution_count": null,
   "metadata": {},
   "outputs": [],
   "source": [
    "# Reproducing...\n",
    "\n",
    "from random import randint\n",
    "\n",
    "dice_imgs = [\"❶\", \"❷\", \"❸\", \"❹\", \"❺\", \"❻\"]\n",
    "dice_num = randint = 6\n",
    "print(dice_imgs[dice_num])"
   ]
  },
  {
   "cell_type": "code",
   "execution_count": null,
   "metadata": {},
   "outputs": [],
   "source": [
    "# Fixing...\n",
    "\n",
    "from random import randint\n",
    "\n",
    "dice_imgs = [\"❶\", \"❷\", \"❸\", \"❹\", \"❺\", \"❻\"]\n",
    "dice_num = randint = randint( 0, 5 )\n",
    "print(dice_imgs[dice_num])"
   ]
  },
  {
   "cell_type": "markdown",
   "metadata": {},
   "source": [
    "## 3 - Play Computer"
   ]
  },
  {
   "cell_type": "code",
   "execution_count": null,
   "metadata": {},
   "outputs": [],
   "source": [
    "# Play Computer:\n",
    "\n",
    "year = int( input( \"What's your year of birthday? \" ) )\n",
    "if year > 1980 and year < 1994:\n",
    "    print( \"You are a millenial.\" )\n",
    "elif year > 1994:\n",
    "    print( \"You are a Gen Z\" )"
   ]
  },
  {
   "cell_type": "code",
   "execution_count": null,
   "metadata": {},
   "outputs": [],
   "source": [
    "# Fixing:\n",
    "\n",
    "year = int( input( \"What's your year of birthday? \" ) )\n",
    "if year > 1980 and year <= 1994:\n",
    "    print( \"You are a millenial.\" )\n",
    "elif year > 1994:\n",
    "    print( \"You are a Gen Z\" )"
   ]
  },
  {
   "cell_type": "markdown",
   "metadata": {},
   "source": [
    "## 4 - Fix the Errors"
   ]
  },
  {
   "cell_type": "code",
   "execution_count": null,
   "metadata": {},
   "outputs": [],
   "source": [
    "# Fix the Errors\n",
    "age = input(\"How old are you?\")\n",
    "if age > 18:\n",
    "print(\"You can drive at age {age}.\")"
   ]
  },
  {
   "cell_type": "code",
   "execution_count": null,
   "metadata": {},
   "outputs": [],
   "source": [
    "# Fix the Errors - first:\n",
    "age = input(\"How old are you?\")\n",
    "if age > 18:\n",
    "    print(\"You can drive at age {age}.\")"
   ]
  },
  {
   "cell_type": "code",
   "execution_count": null,
   "metadata": {},
   "outputs": [],
   "source": [
    "# Fix the Errors - second:\n",
    "age = int( input(\"How old are you?\") )\n",
    "if age > 18:\n",
    "    print(\"You can drive at age {age}.\")"
   ]
  },
  {
   "cell_type": "code",
   "execution_count": null,
   "metadata": {},
   "outputs": [],
   "source": [
    "# Fix the Errors - third:\n",
    "age = int( input(\"How old are you?\") )\n",
    "if age > 18:\n",
    "    print(f\"You can drive at age {age}.\")"
   ]
  },
  {
   "cell_type": "markdown",
   "metadata": {},
   "source": [
    "## 5 - Print is your Friend"
   ]
  },
  {
   "cell_type": "code",
   "execution_count": null,
   "metadata": {},
   "outputs": [],
   "source": [
    "#Print is Your Friend\n",
    "pages = 0\n",
    "word_per_page = 0\n",
    "pages = int(input(\"Number of pages: \"))\n",
    "word_per_page == int(input(\"Number of words per page: \"))\n",
    "total_words = pages * word_per_page\n",
    "print( f\"pages = {pages}\" )\n",
    "print( f\"word_per_page = {word_per_page}\" )\n",
    "print(total_words)"
   ]
  },
  {
   "cell_type": "code",
   "execution_count": null,
   "metadata": {},
   "outputs": [],
   "source": [
    "#Print is Your Friend\n",
    "pages = 0\n",
    "word_per_page = 0\n",
    "pages = int(input(\"Number of pages: \"))\n",
    "word_per_page = int(input(\"Number of words per page: \"))\n",
    "total_words = pages * word_per_page\n",
    "print( f\"pages = {pages}\" )\n",
    "print( f\"word_per_page = {word_per_page}\" )\n",
    "print(total_words)"
   ]
  },
  {
   "cell_type": "markdown",
   "metadata": {},
   "source": [
    "## 6 - Use a debugger:"
   ]
  },
  {
   "cell_type": "code",
   "execution_count": null,
   "metadata": {},
   "outputs": [],
   "source": [
    "def mutate( a_list ):\n",
    "    b_list = []\n",
    "    for item in a_list:\n",
    "        new_item = item * 2\n",
    "    b_list.append( new_item )\n",
    "    print( b_list )\n",
    "\n",
    "mutate([1, 2, 3, 5, 8, 13])"
   ]
  },
  {
   "cell_type": "code",
   "execution_count": null,
   "metadata": {},
   "outputs": [],
   "source": [
    "# Fixing:\n",
    "\n",
    "def mutate( a_list ):\n",
    "    b_list = []\n",
    "    for item in a_list:\n",
    "        new_item = item * 2\n",
    "        b_list.append( new_item )\n",
    "    print( b_list )\n",
    "\n",
    "mutate([1, 2, 3, 5, 8, 13])"
   ]
  },
  {
   "cell_type": "markdown",
   "metadata": {},
   "source": [
    "## Coding Exercises"
   ]
  },
  {
   "cell_type": "markdown",
   "metadata": {},
   "source": [
    "# Day 14"
   ]
  },
  {
   "cell_type": "code",
   "execution_count": null,
   "metadata": {},
   "outputs": [],
   "source": [
    "range"
   ]
  },
  {
   "cell_type": "markdown",
   "metadata": {},
   "source": [
    "# Day 15 - Local Development Environment Setup & And the Coffee Machine"
   ]
  },
  {
   "cell_type": "markdown",
   "metadata": {},
   "source": []
  },
  {
   "cell_type": "markdown",
   "metadata": {},
   "source": [
    "# Day 16 - Object Oriented Programming (OOP)"
   ]
  },
  {
   "cell_type": "markdown",
   "metadata": {},
   "source": [
    "## Classes and Objects:\n",
    "\n",
    "HAS vs DOES\n",
    "\n",
    "\n",
    "\n"
   ]
  },
  {
   "cell_type": "code",
   "execution_count": null,
   "metadata": {},
   "outputs": [],
   "source": [
    "import turtle\n",
    "\n",
    "timmy = turtle.Turtle()\n",
    "print(timmy)"
   ]
  },
  {
   "cell_type": "code",
   "execution_count": null,
   "metadata": {},
   "outputs": [],
   "source": [
    "from turtle import (Turtle\n",
    "                    , Screen)\n",
    "\n",
    "my_screen = Screen()\n",
    "print(my_screen.canvheight)"
   ]
  },
  {
   "cell_type": "code",
   "execution_count": null,
   "metadata": {},
   "outputs": [],
   "source": [
    "from turtle import (Turtle\n",
    "                    , Screen)\n",
    "\n",
    "my_screen = Screen()\n",
    "print(my_screen.canvheight)\n",
    "my_screen.exitonclick()"
   ]
  },
  {
   "cell_type": "code",
   "execution_count": null,
   "metadata": {},
   "outputs": [],
   "source": [
    "import prettytable"
   ]
  },
  {
   "cell_type": "markdown",
   "metadata": {},
   "source": [
    "# Day 17 - The Quiz Project and the Benefits of OOP"
   ]
  },
  {
   "cell_type": "markdown",
   "metadata": {},
   "source": [
    "## How to create your own class on Python:"
   ]
  },
  {
   "cell_type": "code",
   "execution_count": null,
   "metadata": {},
   "outputs": [],
   "source": [
    "class User:\n",
    "    pass\n",
    "\n",
    "\n",
    "user_1 = User()\n",
    "user_1.id = \"001\"\n",
    "user_1.username = \"Angela\"\n",
    "\n",
    "print(user_1.username)\n",
    "\n",
    "user_2 = User()\n",
    "user_2.id = \"002\"\n",
    "user_2.username = \"jack\""
   ]
  },
  {
   "cell_type": "code",
   "execution_count": null,
   "metadata": {},
   "outputs": [],
   "source": []
  },
  {
   "cell_type": "markdown",
   "metadata": {},
   "source": [
    "## Pascal Case vs Camel Case vs Snake Case:\n",
    "\n",
    "PascalCase | camelCase | snake_case"
   ]
  },
  {
   "cell_type": "markdown",
   "metadata": {},
   "source": [
    "## Working with Attributes, Class Constructor and __init__():"
   ]
  },
  {
   "cell_type": "code",
   "execution_count": null,
   "metadata": {},
   "outputs": [],
   "source": [
    "class User_1:\n",
    "    \n",
    "    def __init__(self) -> None:\n",
    "        print(\"new user being created...\")\n",
    "    \n",
    "\n",
    "\n",
    "user_1 = User()"
   ]
  },
  {
   "cell_type": "markdown",
   "metadata": {},
   "source": [
    "The following code is equivalent with the one below it."
   ]
  },
  {
   "cell_type": "code",
   "execution_count": null,
   "metadata": {},
   "outputs": [],
   "source": [
    "class Car:\n",
    "    def __init__(self, seats) -> None:\n",
    "        self.seats = seats\n",
    "\n",
    "my_car = Car(5)"
   ]
  },
  {
   "cell_type": "code",
   "execution_count": null,
   "metadata": {},
   "outputs": [],
   "source": [
    "class Car:\n",
    "    pass\n",
    "\n",
    "my_car.seats = 5"
   ]
  },
  {
   "cell_type": "code",
   "execution_count": null,
   "metadata": {},
   "outputs": [],
   "source": [
    "class User:\n",
    "\n",
    "    def __init__(self, user_id, username): # when we create parameters inside __init__(), when we create a new object, we need to provide the parameter's values.\n",
    "        self.id = user_id\n",
    "        self.username = username\n",
    "\n",
    "user_1 = User(\"001\", \"angela\")\n",
    "user_2 = User(\"002\", \"jack\")\n",
    "print(user_1.id)\n",
    "print(user_1.username)"
   ]
  },
  {
   "cell_type": "markdown",
   "metadata": {},
   "source": [
    "Some times we need to create attributes with a starting value:"
   ]
  },
  {
   "cell_type": "code",
   "execution_count": null,
   "metadata": {},
   "outputs": [],
   "source": [
    "class User:\n",
    "\n",
    "    def __init__(self, id, username):\n",
    "        self.id = id\n",
    "        self.username = username\n",
    "        self.followers = 0\n",
    "    \n",
    "\n",
    "user_1 = User(\"003\", \"victor\")\n",
    "\n",
    "print(f\"User {user_1.username}, id {user_1.id} has {user_1.followers} followers.\")"
   ]
  },
  {
   "cell_type": "code",
   "execution_count": null,
   "metadata": {},
   "outputs": [],
   "source": [
    "class User:\n",
    "\n",
    "    def __init__(self, id, username):\n",
    "        self.id = id\n",
    "        self.username = username\n",
    "        self.followers = 0\n",
    "        self.following = 0\n",
    "    \n",
    "\n",
    "    def follow(self, user):\n",
    "        user.followers += 1\n",
    "        self.following += 1\n",
    "\n",
    "    def see_following_info(self):\n",
    "        print(f\"The user {self.username} has {self.followers} followers and follows {self.following} other users.\")ß\n",
    "\n",
    "user_1 = User(\"003\", \"victor\")\n",
    "user_2 = User(\"002\", \"angela\")\n",
    "\n",
    "print(f\"User {user_1.username}, id: {user_1.id} has {user_1.followers} followers\")\n",
    "\n",
    "user_1.follow(user_2)\n",
    "user_1.see_following_info()\n",
    "user_2.see_following_info()"
   ]
  },
  {
   "cell_type": "markdown",
   "metadata": {},
   "source": [
    "# Day 18 - Turtle & The Graphical User Interface (GUI)"
   ]
  },
  {
   "cell_type": "code",
   "execution_count": null,
   "metadata": {},
   "outputs": [],
   "source": [
    "from turtle import Turtle, Screen\n",
    "\n",
    "timmy_the_turtle = Turtle()\n",
    "timmy_the_turtle.shape(\"turtle\")\n",
    "timmy_the_turtle.color(\"red\")\n",
    "timmy_the_turtle.forward(100)\n",
    "\n",
    "\n",
    "\n",
    "\n",
    "\n",
    "\n",
    "\n",
    "screen = Screen()\n",
    "screen.exitonclick()"
   ]
  },
  {
   "cell_type": "code",
   "execution_count": 1,
   "metadata": {},
   "outputs": [
    {
     "ename": "",
     "evalue": "",
     "output_type": "error",
     "traceback": [
      "\u001b[1;31mCannot execute code, session has been disposed. Please try restarting the Kernel."
     ]
    },
    {
     "ename": "",
     "evalue": "",
     "output_type": "error",
     "traceback": [
      "\u001b[1;31mThe Kernel crashed while executing code in the the current cell or a previous cell. Please review the code in the cell(s) to identify a possible cause of the failure. Click <a href='https://aka.ms/vscodeJupyterKernelCrash'>here</a> for more info. View Jupyter <a href='command:jupyter.viewOutput'>log</a> for further details."
     ]
    }
   ],
   "source": [
    "from turtle import Turtle, Screen\n",
    "\n",
    "little_turtle = Turtle()\n",
    "\n",
    "little_turtle.forward(100)\n",
    "little_turtle.right(90)\n",
    "little_turtle.forward(100)\n",
    "little_turtle.right(90)\n",
    "little_turtle.forward(100)\n",
    "little_turtle.right(90)\n",
    "little_turtle.forward(100)\n",
    "\n",
    "screen = Screen()\n",
    "screen.exitonclick()"
   ]
  },
  {
   "cell_type": "markdown",
   "metadata": {},
   "source": [
    "## Importing Modules, Installing Packages, and Working with Aliases"
   ]
  },
  {
   "cell_type": "code",
   "execution_count": null,
   "metadata": {},
   "outputs": [],
   "source": [
    "from turtle import Turtle\n",
    "\n",
    "tim = Turtle()"
   ]
  },
  {
   "cell_type": "code",
   "execution_count": 2,
   "metadata": {},
   "outputs": [
    {
     "name": "stdout",
     "output_type": "stream",
     "text": [
      "3\n"
     ]
    }
   ],
   "source": [
    "from random import *\n",
    "\n",
    "a = choice([1,2,3,4])\n",
    "print(a)"
   ]
  },
  {
   "cell_type": "code",
   "execution_count": null,
   "metadata": {},
   "outputs": [],
   "source": [
    "# Aliases\n",
    "\n",
    "import turtle as t\n",
    "\n",
    "tim = t.Turtle()"
   ]
  },
  {
   "cell_type": "code",
   "execution_count": null,
   "metadata": {},
   "outputs": [],
   "source": [
    "import heroes\n",
    "\n",
    "print(heroes.gen())"
   ]
  },
  {
   "cell_type": "code",
   "execution_count": 3,
   "metadata": {},
   "outputs": [
    {
     "name": "stdout",
     "output_type": "stream",
     "text": [
      "Collecting heroes\n",
      "  Downloading heroes-1.0.2.tar.gz (11 kB)\n",
      "  Installing build dependencies ... \u001b[?25ldone\n",
      "\u001b[?25h  Getting requirements to build wheel ... \u001b[?25ldone\n",
      "\u001b[?25h  Preparing metadata (pyproject.toml) ... \u001b[?25ldone\n",
      "\u001b[?25hBuilding wheels for collected packages: heroes\n",
      "  Building wheel for heroes (pyproject.toml) ... \u001b[?25ldone\n",
      "\u001b[?25h  Created wheel for heroes: filename=heroes-1.0.2-py3-none-any.whl size=11174 sha256=1267934bd516f9a8d0b1a95ddf99e22e9149649e971c288635cbd718de3cd243\n",
      "  Stored in directory: /Users/victorladeia/Library/Caches/pip/wheels/68/24/e2/76414baf1dafd8c58b52c0063df4a7c4990f5dae39cc0a6788\n",
      "Successfully built heroes\n",
      "Installing collected packages: heroes\n",
      "Successfully installed heroes-1.0.2\n",
      "\n",
      "\u001b[1m[\u001b[0m\u001b[34;49mnotice\u001b[0m\u001b[1;39;49m]\u001b[0m\u001b[39;49m A new release of pip is available: \u001b[0m\u001b[31;49m23.1.2\u001b[0m\u001b[39;49m -> \u001b[0m\u001b[32;49m23.2.1\u001b[0m\n",
      "\u001b[1m[\u001b[0m\u001b[34;49mnotice\u001b[0m\u001b[1;39;49m]\u001b[0m\u001b[39;49m To update, run: \u001b[0m\u001b[32;49mpip3 install --upgrade pip\u001b[0m\n",
      "Note: you may need to restart the kernel to use updated packages.\n"
     ]
    }
   ],
   "source": [
    "pip install heroes"
   ]
  },
  {
   "cell_type": "code",
   "execution_count": 4,
   "metadata": {},
   "outputs": [
    {
     "name": "stdout",
     "output_type": "stream",
     "text": [
      "Songbird\n"
     ]
    }
   ],
   "source": [
    "import heroes\n",
    "\n",
    "print(heroes.gen())"
   ]
  },
  {
   "cell_type": "code",
   "execution_count": 1,
   "metadata": {},
   "outputs": [
    {
     "ename": "",
     "evalue": "",
     "output_type": "error",
     "traceback": [
      "\u001b[1;31mThe Kernel crashed while executing code in the the current cell or a previous cell. Please review the code in the cell(s) to identify a possible cause of the failure. Click <a href='https://aka.ms/vscodeJupyterKernelCrash'>here</a> for more info. View Jupyter <a href='command:jupyter.viewOutput'>log</a> for further details."
     ]
    }
   ],
   "source": [
    "# Challenge - Draw a Dashed Line:\n",
    "\n",
    "from turtle import Turtle\n",
    "\n",
    "tim = Turtle()\n",
    "\n",
    "for _ in range(20):\n",
    "    if (_/10) % 2 == 1:\n",
    "        tim.begin_fill()\n",
    "    else:\n",
    "        tim.end_fill()\n",
    "    tim.forward(10)"
   ]
  },
  {
   "cell_type": "code",
   "execution_count": 1,
   "metadata": {},
   "outputs": [
    {
     "ename": "",
     "evalue": "",
     "output_type": "error",
     "traceback": [
      "\u001b[1;31mThe Kernel crashed while executing code in the the current cell or a previous cell. Please review the code in the cell(s) to identify a possible cause of the failure. Click <a href='https://aka.ms/vscodeJupyterKernelCrash'>here</a> for more info. View Jupyter <a href='command:jupyter.viewOutput'>log</a> for further details."
     ]
    }
   ],
   "source": [
    "from turtle import Turtle\n",
    "\n",
    "tim = Turtle()\n",
    "\n",
    "for _ in range(10):\n",
    "    tim.forward(10)\n",
    "    tim.up()\n",
    "    tim.forward(10)\n",
    "    tim.down()\n"
   ]
  },
  {
   "cell_type": "code",
   "execution_count": null,
   "metadata": {},
   "outputs": [],
   "source": [
    "from turtle import Turtle, Screen\n",
    "import random\n",
    "\n",
    "tim = Turtle()\n",
    "\n",
    "screen = Screen()\n",
    "\n",
    "for num_of_sides in range(3, 10):\n",
    "    angle = 360 / num_of_sides\n",
    "    r, g, b = random.randint(0, 255), random.randint(0, 255), random.randint(0, 255)\n",
    "    for side in range(num_of_sides):\n",
    "        tim.pencolor((r, g, b))\n",
    "        tim.forward(100)\n",
    "        tim.right(angle)"
   ]
  },
  {
   "cell_type": "code",
   "execution_count": 12,
   "metadata": {},
   "outputs": [],
   "source": [
    "screen.colormode(255)"
   ]
  },
  {
   "cell_type": "code",
   "execution_count": null,
   "metadata": {},
   "outputs": [],
   "source": [
    "from turtle import Turtle, Screen\n",
    "from random import choice, randint\n",
    "\n",
    "\n",
    "def pick_a_direction():\n",
    "    direction = choice(range(0, 4)) * 90\n",
    "    tur.right(direction)\n",
    "\n",
    "def pick_a_color():\n",
    "    r, g, b = randint(0, 255), randint(0, 255), randint(0, 255)\n",
    "    tur.pencolor((r, g, b))\n",
    "\n",
    "\n",
    "def walk_randomly():\n",
    "    pick_a_color()\n",
    "    pick_a_direction()\n",
    "    tur.forward(40)\n",
    "\n",
    "    \n",
    "\n",
    "\n",
    "# Defining a Screen:\n",
    "screen = Screen()\n",
    "screen.colormode(255)\n",
    "\n",
    "# Creating  a Turtle:\n",
    "tur = Turtle()\n",
    "tur.width(10)\n",
    "tur.speed(10)\n",
    "\n",
    "while True:\n",
    "    walk_randomly()\n",
    "    \n"
   ]
  },
  {
   "cell_type": "code",
   "execution_count": 1,
   "metadata": {},
   "outputs": [],
   "source": [
    "# Challenge - Draw multiple cicles:\n",
    "\n",
    "from turtle import Turtle, Screen\n",
    "from random import randint\n",
    "\n",
    "\n",
    "def random_color():\n",
    "    color = {\n",
    "        \"r\": 0,\n",
    "        \"g\": 0,\n",
    "        \"b\": 0\n",
    "    }\n",
    "    for color_intensity in color:\n",
    "        color[color_intensity] = randint(0, 255)\n",
    "    return (color[\"r\"], color[\"g\"], color[\"b\"])\n",
    "\n",
    "tur = Turtle()\n",
    "screen = Screen()\n",
    "screen.colormode(255)\n",
    "heading = tur.heading()\n",
    "tur.speed(0)\n",
    "\n",
    "while not heading == 360:\n",
    "    color = random_color()\n",
    "    tur.color(color)\n",
    "    tur.circle(120)\n",
    "    heading += 2\n",
    "    tur.setheading(heading)\n"
   ]
  },
  {
   "cell_type": "code",
   "execution_count": 2,
   "metadata": {},
   "outputs": [
    {
     "name": "stdout",
     "output_type": "stream",
     "text": [
      "Collecting colorgram.py\n",
      "  Downloading colorgram.py-1.2.0-py2.py3-none-any.whl (6.2 kB)\n",
      "Collecting pillow>=3.3.1 (from colorgram.py)\n",
      "  Downloading Pillow-10.0.0-cp311-cp311-macosx_11_0_arm64.whl (3.1 MB)\n",
      "\u001b[2K     \u001b[90m━━━━━━━━━━━━━━━━━━━━━━━━━━━━━━━━━━━━━━━━\u001b[0m \u001b[32m3.1/3.1 MB\u001b[0m \u001b[31m24.6 MB/s\u001b[0m eta \u001b[36m0:00:00\u001b[0ma \u001b[36m0:00:01\u001b[0m\n",
      "\u001b[?25hInstalling collected packages: pillow, colorgram.py\n",
      "Successfully installed colorgram.py-1.2.0 pillow-10.0.0\n",
      "\n",
      "\u001b[1m[\u001b[0m\u001b[34;49mnotice\u001b[0m\u001b[1;39;49m]\u001b[0m\u001b[39;49m A new release of pip is available: \u001b[0m\u001b[31;49m23.1.2\u001b[0m\u001b[39;49m -> \u001b[0m\u001b[32;49m23.2.1\u001b[0m\n",
      "\u001b[1m[\u001b[0m\u001b[34;49mnotice\u001b[0m\u001b[1;39;49m]\u001b[0m\u001b[39;49m To update, run: \u001b[0m\u001b[32;49mpip3 install --upgrade pip\u001b[0m\n",
      "Note: you may need to restart the kernel to use updated packages.\n"
     ]
    }
   ],
   "source": [
    "pip install colorgram.py"
   ]
  },
  {
   "cell_type": "code",
   "execution_count": 5,
   "metadata": {},
   "outputs": [
    {
     "name": "stdout",
     "output_type": "stream",
     "text": [
      "[(249, 248, 248), (238, 246, 243), (246, 240, 243), (235, 241, 246), (1, 13, 31), (53, 25, 17), (219, 127, 106), (10, 105, 160), (241, 214, 69), (149, 84, 39)]\n"
     ]
    }
   ],
   "source": [
    "import colorgram\n",
    "\n",
    "colors = []\n",
    "for color in colorgram.extract('Day_18/Hirst_Painting/image.jpg', 10):\n",
    "    colors.append((color.rgb.r, color.rgb.g, color.rgb.b))\n",
    "print(colors)"
   ]
  },
  {
   "cell_type": "code",
   "execution_count": 3,
   "metadata": {},
   "outputs": [
    {
     "data": {
      "text/plain": [
       "Rgb(r=238, g=246, b=243)"
      ]
     },
     "execution_count": 3,
     "metadata": {},
     "output_type": "execute_result"
    }
   ],
   "source": [
    "colors[1]"
   ]
  },
  {
   "cell_type": "code",
   "execution_count": 2,
   "metadata": {},
   "outputs": [
    {
     "name": "stdout",
     "output_type": "stream",
     "text": [
      "(0.00,0.00)\n"
     ]
    }
   ],
   "source": [
    "from turtle import Turtle, Screen\n",
    "from random import choice\n",
    "\n",
    "tur = Turtle()\n",
    "tur.up()\n",
    "tur.hideturtle()\n",
    "screen = Screen()\n",
    "screen.colormode(255)\n",
    "x = 0\n",
    "y = 0\n",
    "color_list = [(235, 241, 246), (1, 13, 31), (53, 25, 17), (219, 127, 106), (10, 105, 160), (241, 214, 69), (149, 84, 39)]\n",
    "\n",
    "tur.dot(10, (238, 246, 243))\n",
    "\n",
    "for row_dot in range(0, 10):\n",
    "    x=0\n",
    "    for col_dot in range(0, 10):\n",
    "        tur.setposition(x, y)\n",
    "        tur.dot(10, choice(color_list))\n",
    "        x += 40\n",
    "    y += 40"
   ]
  },
  {
   "cell_type": "markdown",
   "metadata": {},
   "source": [
    "# Day 19 - Instances, State, and Higher Order Functions"
   ]
  },
  {
   "cell_type": "code",
   "execution_count": 1,
   "metadata": {},
   "outputs": [
    {
     "ename": "",
     "evalue": "",
     "output_type": "error",
     "traceback": [
      "\u001b[1;31mThe Kernel crashed while executing code in the the current cell or a previous cell. Please review the code in the cell(s) to identify a possible cause of the failure. Click <a href='https://aka.ms/vscodeJupyterKernelCrash'>here</a> for more info. View Jupyter <a href='command:jupyter.viewOutput'>log</a> for further details."
     ]
    }
   ],
   "source": [
    "from turtle import Turtle, Screen\n",
    "\n",
    "tim = Turtle()\n",
    "screen = Screen()\n",
    "\n",
    "def move_forward():\n",
    "    tim.forward(10)\n",
    "\n",
    "\n",
    "screen.listen()\n",
    "screen.onkey(key=\"space\", fun=move_forward)\n",
    "screen.exitonclick()"
   ]
  },
  {
   "cell_type": "markdown",
   "metadata": {},
   "source": [
    "## Functions as Inputs:"
   ]
  },
  {
   "cell_type": "markdown",
   "metadata": {},
   "source": [
    "function_a(function_b)"
   ]
  },
  {
   "cell_type": "code",
   "execution_count": 2,
   "metadata": {},
   "outputs": [
    {
     "name": "stdout",
     "output_type": "stream",
     "text": [
      "0.6666666666666666\n"
     ]
    }
   ],
   "source": [
    "def sum(a, b):\n",
    "    return a + b\n",
    "\n",
    "def sub(a, b):\n",
    "    return a - b\n",
    "\n",
    "def mult(a, b):\n",
    "    return a * b\n",
    "\n",
    "def div(a, b):\n",
    "    return a / b\n",
    "\n",
    "def calculator(n1, n2, func): # this is a higher order function\n",
    "    return func(n1, n2)\n",
    "\n",
    "result  = calculator(2, 3, div) # function inside other funtion\n",
    "\n",
    "print(result)"
   ]
  },
  {
   "cell_type": "markdown",
   "metadata": {},
   "source": [
    "## Higher Order Function"
   ]
  },
  {
   "cell_type": "markdown",
   "metadata": {},
   "source": [
    "Function which allows us to use other funtions inside them."
   ]
  },
  {
   "cell_type": "markdown",
   "metadata": {},
   "source": []
  }
 ],
 "metadata": {
  "kernelspec": {
   "display_name": "base",
   "language": "python",
   "name": "python3"
  },
  "language_info": {
   "codemirror_mode": {
    "name": "ipython",
    "version": 3
   },
   "file_extension": ".py",
   "mimetype": "text/x-python",
   "name": "python",
   "nbconvert_exporter": "python",
   "pygments_lexer": "ipython3",
   "version": "3.11.4"
  },
  "orig_nbformat": 4
 },
 "nbformat": 4,
 "nbformat_minor": 2
}
