{
 "cells": [
  {
   "cell_type": "markdown",
   "metadata": {},
   "source": [
    "# Day 9: Python Dictionary -Deep Dive"
   ]
  },
  {
   "cell_type": "code",
   "execution_count": 14,
   "metadata": {},
   "outputs": [],
   "source": [
    "programming_dictionary = {\n",
    "    \"Bug\": \"An erro in a program tha prevent the program from running as expected.\",\n",
    "    \"Function\": \"A piece of code that you can easily call over and over again.\"\n",
    "}"
   ]
  },
  {
   "cell_type": "code",
   "execution_count": 9,
   "metadata": {},
   "outputs": [
    {
     "name": "stdout",
     "output_type": "stream",
     "text": [
      "A piece of code that you can easily call over and over again.\n"
     ]
    }
   ],
   "source": [
    "# Retrievinf items from a dictionary:\n",
    "print( programming_dictionary[\"Function\"] )"
   ]
  },
  {
   "cell_type": "code",
   "execution_count": 10,
   "metadata": {},
   "outputs": [],
   "source": [
    "# Adding new items to dictionary:\n",
    "programming_dictionary[ \"Loop\" ] = \"The action of doing something over and over again.\""
   ]
  },
  {
   "cell_type": "code",
   "execution_count": 11,
   "metadata": {},
   "outputs": [
    {
     "data": {
      "text/plain": [
       "{'Bug': 'An erro in a program tha prevent the program from running as expected.',\n",
       " 'Function': 'A piece of code that you can easily call over and over again.',\n",
       " 'Loop': 'The action of doing something over and over again.'}"
      ]
     },
     "execution_count": 11,
     "metadata": {},
     "output_type": "execute_result"
    }
   ],
   "source": [
    "programming_dictionary"
   ]
  },
  {
   "cell_type": "code",
   "execution_count": 12,
   "metadata": {},
   "outputs": [],
   "source": [
    "# Create an empty dictionary.\n",
    "empty_dictionary = {}\n"
   ]
  },
  {
   "cell_type": "code",
   "execution_count": 13,
   "metadata": {},
   "outputs": [
    {
     "data": {
      "text/plain": [
       "{}"
      ]
     },
     "execution_count": 13,
     "metadata": {},
     "output_type": "execute_result"
    }
   ],
   "source": [
    "# Wipe an existing dictionary:\n",
    "programming_dictionary = {}\n",
    "programming_dictionary"
   ]
  },
  {
   "cell_type": "code",
   "execution_count": 16,
   "metadata": {},
   "outputs": [
    {
     "data": {
      "text/plain": [
       "{'Bug': 'A moth in your computer.',\n",
       " 'Function': 'A piece of code that you can easily call over and over again.'}"
      ]
     },
     "execution_count": 16,
     "metadata": {},
     "output_type": "execute_result"
    }
   ],
   "source": [
    "# Edit an item in a dictionary:\n",
    "programming_dictionary[ \"Bug\" ] = \"A moth in your computer.\"\n",
    "programming_dictionary"
   ]
  },
  {
   "cell_type": "code",
   "execution_count": 17,
   "metadata": {},
   "outputs": [
    {
     "name": "stdout",
     "output_type": "stream",
     "text": [
      "Bug\n",
      "A moth in your computer.\n",
      "Function\n",
      "A piece of code that you can easily call over and over again.\n"
     ]
    }
   ],
   "source": [
    "# Loop through a dictionary:\n",
    "for key in programming_dictionary:\n",
    "    print( key )\n",
    "    print( programming_dictionary[ key ] )"
   ]
  },
  {
   "cell_type": "markdown",
   "metadata": {},
   "source": [
    "### Nesting:"
   ]
  },
  {
   "cell_type": "code",
   "execution_count": 19,
   "metadata": {},
   "outputs": [],
   "source": [
    "capitals = {\n",
    "    \"France\": \"Paris\",\n",
    "    \"German\": \"Berlin\",\n",
    "}\n",
    "\n",
    "# Nesting a List in a Dictionary:\n",
    "\n",
    "travel_log = {\n",
    "    \"France\": [ \"Paris\", \"Lille\", \"Dijon\" ],\n",
    "    \"Germany\": [ \"Berlin\", \"Hamburg\", \"Stuttgart\" ],\n",
    "}"
   ]
  },
  {
   "cell_type": "code",
   "execution_count": 21,
   "metadata": {},
   "outputs": [],
   "source": [
    "# Nesting a dictionary into a dictionary:\n",
    "\n",
    "travel_log = {\n",
    "    \"France\": {\n",
    "        \"city_name\": [ \"Paris\", \"Lille\", \"Dijon\" ],\n",
    "        \"cities_visited\": 3\n",
    "    },\n",
    "    \"German\": {\n",
    "        \"city_name\": [ \"Berlin\", \"Hamburg\", \"Stuttgart\" ],\n",
    "        \"cities_visited\": 3\n",
    "    }\n",
    "}"
   ]
  },
  {
   "cell_type": "markdown",
   "metadata": {},
   "source": [
    "### Nesting a Dictionary in a List"
   ]
  },
  {
   "cell_type": "code",
   "execution_count": null,
   "metadata": {},
   "outputs": [],
   "source": [
    "travel_log = [\n",
    "    {\n",
    "        \"country\": \"France\",\n",
    "        \"cities_visited\": [ \"Paris\", \"Lille\", \"Dijon\" ],\n",
    "        \"total_visits\": 12\n",
    "    },\n",
    "    {\n",
    "        \"country\": \"German\",\n",
    "        \"city_name\": [ \"Berlin\", \"Hamburg\", \"Stuttgart\" ],\n",
    "        \"cities_visited\": 5\n",
    "    }\n",
    "]"
   ]
  },
  {
   "cell_type": "markdown",
   "metadata": {},
   "source": [
    "#### Testing cases for exercises:"
   ]
  },
  {
   "cell_type": "code",
   "execution_count": 22,
   "metadata": {},
   "outputs": [
    {
     "data": {
      "text/plain": [
       "{'a': 1, 'b': 2, 'c': 3}"
      ]
     },
     "execution_count": 22,
     "metadata": {},
     "output_type": "execute_result"
    }
   ],
   "source": [
    "dict = {\n",
    "    \"a\": 1,\n",
    "    \"b\": 2,\n",
    "    \"c\": 3,\n",
    "}\n",
    "dict"
   ]
  },
  {
   "cell_type": "code",
   "execution_count": 23,
   "metadata": {},
   "outputs": [],
   "source": [
    "dict[ 1 ] = 4"
   ]
  },
  {
   "cell_type": "code",
   "execution_count": 24,
   "metadata": {},
   "outputs": [
    {
     "data": {
      "text/plain": [
       "{'a': 1, 'b': 2, 'c': 3, 1: 4}"
      ]
     },
     "execution_count": 24,
     "metadata": {},
     "output_type": "execute_result"
    }
   ],
   "source": [
    "dict"
   ]
  },
  {
   "cell_type": "code",
   "execution_count": 25,
   "metadata": {},
   "outputs": [
    {
     "name": "stdout",
     "output_type": "stream",
     "text": [
      "4\n"
     ]
    }
   ],
   "source": [
    "print( dict[1] )"
   ]
  },
  {
   "cell_type": "markdown",
   "metadata": {},
   "source": [
    "# Day 10 - Functions with Outpus"
   ]
  },
  {
   "cell_type": "code",
   "execution_count": 27,
   "metadata": {},
   "outputs": [
    {
     "name": "stdout",
     "output_type": "stream",
     "text": [
      "Victor Victor\n"
     ]
    }
   ],
   "source": [
    "# Functions with Outputs\n",
    "\n",
    "def format_name( f_name, l_name ):\n",
    "    f_name = f_name.title()\n",
    "    l_name = l_name.title()\n",
    "\n",
    "    print( f_name, l_name )\n",
    "\n",
    "format_name( \"VICTOR\", 'victor' )"
   ]
  },
  {
   "cell_type": "code",
   "execution_count": 29,
   "metadata": {},
   "outputs": [
    {
     "name": "stdout",
     "output_type": "stream",
     "text": [
      "Victor Victor\n"
     ]
    }
   ],
   "source": [
    "# Using return instead of print:\n",
    "\n",
    "def format_name( f_name, l_name ):\n",
    "    formated_f_name = f_name.title()\n",
    "    formated_l_name = l_name.title()\n",
    "\n",
    "    return f\"{formated_f_name} {formated_l_name}\"\n",
    "\n",
    "formated_string = format_name( \"VICTOR\", 'victor' )\n",
    "print( formated_string )"
   ]
  },
  {
   "cell_type": "code",
   "execution_count": 30,
   "metadata": {},
   "outputs": [
    {
     "name": "stdout",
     "output_type": "stream",
     "text": [
      "Arthur Ladeia\n"
     ]
    }
   ],
   "source": [
    "# ...or\n",
    "\n",
    "print( format_name( \"ArTHUr\", \"LADEIa\") )"
   ]
  },
  {
   "cell_type": "code",
   "execution_count": 33,
   "metadata": {},
   "outputs": [
    {
     "name": "stdout",
     "output_type": "stream",
     "text": [
      "None\n"
     ]
    }
   ],
   "source": [
    "# the keyword return tells the computer to get out of the function:\n",
    "\n",
    "def format_name( f_name, l_name ):\n",
    "    if ( f_name == \"\" ) or ( l_name == \"\" ):\n",
    "        return\n",
    "    formated_f_name = f_name.title()\n",
    "    formated_l_name = l_name.title()\n",
    "\n",
    "    return f\"Result: {formated_f_name} {formated_l_name}\"\n",
    "\n",
    "\n",
    "print( format_name( input( \"What's your first name? \"), input( \"What's your last name\" ) ) )"
   ]
  },
  {
   "cell_type": "code",
   "execution_count": 34,
   "metadata": {},
   "outputs": [
    {
     "name": "stdout",
     "output_type": "stream",
     "text": [
      "You didn't provide valid inputs.\n"
     ]
    }
   ],
   "source": [
    "# the keyword return tells the computer to get out of the function:\n",
    "\n",
    "def format_name( f_name, l_name ):\n",
    "    if ( f_name == \"\" ) or ( l_name == \"\" ):\n",
    "        return \"You didn't provide valid inputs.\"\n",
    "    formated_f_name = f_name.title()\n",
    "    formated_l_name = l_name.title()\n",
    "\n",
    "    return f\"Result: {formated_f_name} {formated_l_name}\"\n",
    "\n",
    "\n",
    "print( format_name( input( \"What's your first name? \"), input( \"What's your last name\" ) ) )"
   ]
  },
  {
   "cell_type": "markdown",
   "metadata": {},
   "source": [
    "### Docstrings"
   ]
  },
  {
   "cell_type": "code",
   "execution_count": null,
   "metadata": {},
   "outputs": [],
   "source": [
    "def format_name( f_name, l_name ):\n",
    "    \"\"\"Take a first and last name and format it to return the title case version of the name.\"\"\"\n",
    "    if ( f_name == \"\" ) or ( l_name == \"\" ):\n",
    "        return \"You didn't provide valid inputs.\"\n",
    "    formated_f_name = f_name.title()\n",
    "    formated_l_name = l_name.title()\n",
    "\n",
    "    return f\"Result: {formated_f_name} {formated_l_name}\""
   ]
  },
  {
   "cell_type": "markdown",
   "metadata": {},
   "source": [
    "# Day 12 - Local vs. Global Scope"
   ]
  },
  {
   "cell_type": "code",
   "execution_count": 35,
   "metadata": {},
   "outputs": [
    {
     "name": "stdout",
     "output_type": "stream",
     "text": [
      "enemies inside function: 2\n",
      "enemies outside function: 1\n"
     ]
    }
   ],
   "source": [
    "################ SCOPE ####################\n",
    "\n",
    "enemies = 1\n",
    "\n",
    "def increase_enemies():\n",
    "    enemies = 2\n",
    "    print( f\"enemies inside function: {enemies}\" )\n",
    "\n",
    "increase_enemies()\n",
    "print( f\"enemies outside function: {enemies}\" )"
   ]
  },
  {
   "cell_type": "code",
   "execution_count": 36,
   "metadata": {},
   "outputs": [
    {
     "name": "stdout",
     "output_type": "stream",
     "text": [
      "2\n"
     ]
    },
    {
     "ename": "NameError",
     "evalue": "name 'potion_strength' is not defined",
     "output_type": "error",
     "traceback": [
      "\u001b[0;31m---------------------------------------------------------------------------\u001b[0m",
      "\u001b[0;31mNameError\u001b[0m                                 Traceback (most recent call last)",
      "\u001b[1;32m/Users/victorladeia/Library/CloudStorage/OneDrive-Personal/100 Days of Code - Python/100_days_of_code_bootcamp/main.ipynb Cell 30\u001b[0m in \u001b[0;36m8\n\u001b[1;32m      <a href='vscode-notebook-cell:/Users/victorladeia/Library/CloudStorage/OneDrive-Personal/100%20Days%20of%20Code%20-%20Python/100_days_of_code_bootcamp/main.ipynb#X54sZmlsZQ%3D%3D?line=4'>5</a>\u001b[0m     \u001b[39mprint\u001b[39m( potion_strength )\n\u001b[1;32m      <a href='vscode-notebook-cell:/Users/victorladeia/Library/CloudStorage/OneDrive-Personal/100%20Days%20of%20Code%20-%20Python/100_days_of_code_bootcamp/main.ipynb#X54sZmlsZQ%3D%3D?line=6'>7</a>\u001b[0m drink_potion()\n\u001b[0;32m----> <a href='vscode-notebook-cell:/Users/victorladeia/Library/CloudStorage/OneDrive-Personal/100%20Days%20of%20Code%20-%20Python/100_days_of_code_bootcamp/main.ipynb#X54sZmlsZQ%3D%3D?line=7'>8</a>\u001b[0m \u001b[39mprint\u001b[39m(potion_strength)\n",
      "\u001b[0;31mNameError\u001b[0m: name 'potion_strength' is not defined"
     ]
    }
   ],
   "source": [
    "# Local Scope\n",
    "\n",
    "def drink_potion():\n",
    "    potion_strength = 2\n",
    "    print( potion_strength )\n",
    "\n",
    "drink_potion()\n",
    "print(potion_strength) # error - potion_strength was only defined on drink_potion() scope."
   ]
  },
  {
   "cell_type": "code",
   "execution_count": 37,
   "metadata": {},
   "outputs": [
    {
     "name": "stdout",
     "output_type": "stream",
     "text": [
      "10\n"
     ]
    }
   ],
   "source": [
    "# Global Scope:\n",
    "\n",
    "player_health = 10\n",
    "\n",
    "def drink_potion():\n",
    "    potion_strength = 2\n",
    "    print( player_health )\n",
    "\n",
    "drink_potion()"
   ]
  },
  {
   "cell_type": "code",
   "execution_count": 41,
   "metadata": {},
   "outputs": [
    {
     "name": "stdout",
     "output_type": "stream",
     "text": [
      "Skeleton\n"
     ]
    }
   ],
   "source": [
    "# There is no block scope:\n",
    "\n",
    "game_level = 3\n",
    "enemies = [ \"Skeleton\", \"Zombie\", \"Alien\"]\n",
    "if game_level < 5 :\n",
    "    new_enemy = enemies[0]\n",
    "print( new_enemy )"
   ]
  },
  {
   "cell_type": "code",
   "execution_count": 1,
   "metadata": {},
   "outputs": [
    {
     "ename": "NameError",
     "evalue": "name 'new_enemy1' is not defined",
     "output_type": "error",
     "traceback": [
      "\u001b[0;31m---------------------------------------------------------------------------\u001b[0m",
      "\u001b[0;31mNameError\u001b[0m                                 Traceback (most recent call last)",
      "\u001b[1;32m/Users/victorladeia/Library/CloudStorage/OneDrive-Personal/100 Days of Code - Python/100_days_of_code_bootcamp/main.ipynb Cell 33\u001b[0m in \u001b[0;36m9\n\u001b[1;32m      <a href='vscode-notebook-cell:/Users/victorladeia/Library/CloudStorage/OneDrive-Personal/100%20Days%20of%20Code%20-%20Python/100_days_of_code_bootcamp/main.ipynb#X60sZmlsZQ%3D%3D?line=5'>6</a>\u001b[0m     \u001b[39mif\u001b[39;00m game_level \u001b[39m<\u001b[39m \u001b[39m5\u001b[39m :\n\u001b[1;32m      <a href='vscode-notebook-cell:/Users/victorladeia/Library/CloudStorage/OneDrive-Personal/100%20Days%20of%20Code%20-%20Python/100_days_of_code_bootcamp/main.ipynb#X60sZmlsZQ%3D%3D?line=6'>7</a>\u001b[0m         new_enemy1 \u001b[39m=\u001b[39m enemies[\u001b[39m0\u001b[39m]\n\u001b[0;32m----> <a href='vscode-notebook-cell:/Users/victorladeia/Library/CloudStorage/OneDrive-Personal/100%20Days%20of%20Code%20-%20Python/100_days_of_code_bootcamp/main.ipynb#X60sZmlsZQ%3D%3D?line=8'>9</a>\u001b[0m \u001b[39mprint\u001b[39m( new_enemy1 )\n",
      "\u001b[0;31mNameError\u001b[0m: name 'new_enemy1' is not defined"
     ]
    }
   ],
   "source": [
    "# There is no block scope:\n",
    "\n",
    "game_level = 3\n",
    "def create_enemy():\n",
    "    enemies = [ \"Skeleton\", \"Zombie\", \"Alien\"]\n",
    "    if game_level < 5 :\n",
    "        new_enemy1 = enemies[0]\n",
    "\n",
    "print( new_enemy1 )"
   ]
  },
  {
   "cell_type": "markdown",
   "metadata": {},
   "source": [
    "## How to modify a Global Variable"
   ]
  },
  {
   "cell_type": "code",
   "execution_count": 2,
   "metadata": {},
   "outputs": [
    {
     "name": "stdout",
     "output_type": "stream",
     "text": [
      "enemies inside function: 2\n",
      "enemies outside funtion: 2\n"
     ]
    }
   ],
   "source": [
    "# Modifying Global Scope\n",
    "\n",
    "enemies = 1\n",
    "\n",
    "def increase_enemies():\n",
    "    global enemies\n",
    "    enemies += 1\n",
    "    print( f\"enemies inside function: {enemies}\" )\n",
    "\n",
    "increase_enemies()\n",
    "print( f\"enemies outside funtion: {enemies}\" )"
   ]
  },
  {
   "cell_type": "code",
   "execution_count": 4,
   "metadata": {},
   "outputs": [
    {
     "name": "stdout",
     "output_type": "stream",
     "text": [
      "enemies inside function: 1\n",
      "enemies outside funtion: 2\n"
     ]
    }
   ],
   "source": [
    "# Modifying Global Scope\n",
    "\n",
    "enemies = 1\n",
    "\n",
    "def increase_enemies():\n",
    "    print( f\"enemies inside function: {enemies}\" )\n",
    "    return enemies + 1\n",
    "\n",
    "enemies = increase_enemies()\n",
    "print( f\"enemies outside funtion: {enemies}\" )"
   ]
  },
  {
   "cell_type": "markdown",
   "metadata": {},
   "source": [
    "## Global Constants:"
   ]
  },
  {
   "cell_type": "code",
   "execution_count": 5,
   "metadata": {},
   "outputs": [],
   "source": [
    "# Python convention for these constants is capital letters\n",
    "\n",
    "PI = 3.14159\n",
    "URL = \"https://www.google.com\"\n"
   ]
  },
  {
   "cell_type": "code",
   "execution_count": null,
   "metadata": {},
   "outputs": [],
   "source": []
  }
 ],
 "metadata": {
  "kernelspec": {
   "display_name": "base",
   "language": "python",
   "name": "python3"
  },
  "language_info": {
   "codemirror_mode": {
    "name": "ipython",
    "version": 3
   },
   "file_extension": ".py",
   "mimetype": "text/x-python",
   "name": "python",
   "nbconvert_exporter": "python",
   "pygments_lexer": "ipython3",
   "version": "3.10.6"
  },
  "orig_nbformat": 4
 },
 "nbformat": 4,
 "nbformat_minor": 2
}
