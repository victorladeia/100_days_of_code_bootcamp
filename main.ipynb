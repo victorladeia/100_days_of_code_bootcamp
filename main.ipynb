{
 "cells": [
  {
   "cell_type": "markdown",
   "metadata": {},
   "source": [
    "# Day 9: Python Dictionary -Deep Dive"
   ]
  },
  {
   "cell_type": "code",
   "execution_count": 14,
   "metadata": {},
   "outputs": [],
   "source": [
    "programming_dictionary = {\n",
    "    \"Bug\": \"An erro in a program tha prevent the program from running as expected.\",\n",
    "    \"Function\": \"A piece of code that you can easily call over and over again.\"\n",
    "}"
   ]
  },
  {
   "cell_type": "code",
   "execution_count": 9,
   "metadata": {},
   "outputs": [
    {
     "name": "stdout",
     "output_type": "stream",
     "text": [
      "A piece of code that you can easily call over and over again.\n"
     ]
    }
   ],
   "source": [
    "# Retrievinf items from a dictionary:\n",
    "print( programming_dictionary[\"Function\"] )"
   ]
  },
  {
   "cell_type": "code",
   "execution_count": 10,
   "metadata": {},
   "outputs": [],
   "source": [
    "# Adding new items to dictionary:\n",
    "programming_dictionary[ \"Loop\" ] = \"The action of doing something over and over again.\""
   ]
  },
  {
   "cell_type": "code",
   "execution_count": 11,
   "metadata": {},
   "outputs": [
    {
     "data": {
      "text/plain": [
       "{'Bug': 'An erro in a program tha prevent the program from running as expected.',\n",
       " 'Function': 'A piece of code that you can easily call over and over again.',\n",
       " 'Loop': 'The action of doing something over and over again.'}"
      ]
     },
     "execution_count": 11,
     "metadata": {},
     "output_type": "execute_result"
    }
   ],
   "source": [
    "programming_dictionary"
   ]
  },
  {
   "cell_type": "code",
   "execution_count": 12,
   "metadata": {},
   "outputs": [],
   "source": [
    "# Create an empty dictionary.\n",
    "empty_dictionary = {}\n"
   ]
  },
  {
   "cell_type": "code",
   "execution_count": 13,
   "metadata": {},
   "outputs": [
    {
     "data": {
      "text/plain": [
       "{}"
      ]
     },
     "execution_count": 13,
     "metadata": {},
     "output_type": "execute_result"
    }
   ],
   "source": [
    "# Wipe an existing dictionary:\n",
    "programming_dictionary = {}\n",
    "programming_dictionary"
   ]
  },
  {
   "cell_type": "code",
   "execution_count": 16,
   "metadata": {},
   "outputs": [
    {
     "data": {
      "text/plain": [
       "{'Bug': 'A moth in your computer.',\n",
       " 'Function': 'A piece of code that you can easily call over and over again.'}"
      ]
     },
     "execution_count": 16,
     "metadata": {},
     "output_type": "execute_result"
    }
   ],
   "source": [
    "# Edit an item in a dictionary:\n",
    "programming_dictionary[ \"Bug\" ] = \"A moth in your computer.\"\n",
    "programming_dictionary"
   ]
  },
  {
   "cell_type": "code",
   "execution_count": 17,
   "metadata": {},
   "outputs": [
    {
     "name": "stdout",
     "output_type": "stream",
     "text": [
      "Bug\n",
      "A moth in your computer.\n",
      "Function\n",
      "A piece of code that you can easily call over and over again.\n"
     ]
    }
   ],
   "source": [
    "# Loop through a dictionary:\n",
    "for key in programming_dictionary:\n",
    "    print( key )\n",
    "    print( programming_dictionary[ key ] )"
   ]
  },
  {
   "cell_type": "markdown",
   "metadata": {},
   "source": [
    "### Nesting:"
   ]
  },
  {
   "cell_type": "code",
   "execution_count": 19,
   "metadata": {},
   "outputs": [],
   "source": [
    "capitals = {\n",
    "    \"France\": \"Paris\",\n",
    "    \"German\": \"Berlin\",\n",
    "}\n",
    "\n",
    "# Nesting a List in a Dictionary:\n",
    "\n",
    "travel_log = {\n",
    "    \"France\": [ \"Paris\", \"Lille\", \"Dijon\" ],\n",
    "    \"Germany\": [ \"Berlin\", \"Hamburg\", \"Stuttgart\" ],\n",
    "}"
   ]
  },
  {
   "cell_type": "code",
   "execution_count": 21,
   "metadata": {},
   "outputs": [],
   "source": [
    "# Nesting a dictionary into a dictionary:\n",
    "\n",
    "travel_log = {\n",
    "    \"France\": {\n",
    "        \"city_name\": [ \"Paris\", \"Lille\", \"Dijon\" ],\n",
    "        \"cities_visited\": 3\n",
    "    },\n",
    "    \"German\": {\n",
    "        \"city_name\": [ \"Berlin\", \"Hamburg\", \"Stuttgart\" ],\n",
    "        \"cities_visited\": 3\n",
    "    }\n",
    "}"
   ]
  },
  {
   "cell_type": "markdown",
   "metadata": {},
   "source": [
    "### Nesting a Dictionary in a List"
   ]
  },
  {
   "cell_type": "code",
   "execution_count": null,
   "metadata": {},
   "outputs": [],
   "source": [
    "travel_log = [\n",
    "    {\n",
    "        \"country\": \"France\",\n",
    "        \"cities_visited\": [ \"Paris\", \"Lille\", \"Dijon\" ],\n",
    "        \"total_visits\": 12\n",
    "    },\n",
    "    {\n",
    "        \"country\": \"German\",\n",
    "        \"city_name\": [ \"Berlin\", \"Hamburg\", \"Stuttgart\" ],\n",
    "        \"cities_visited\": 5\n",
    "    }\n",
    "]"
   ]
  },
  {
   "cell_type": "markdown",
   "metadata": {},
   "source": [
    "#### Testing cases for exercises:"
   ]
  },
  {
   "cell_type": "code",
   "execution_count": 22,
   "metadata": {},
   "outputs": [
    {
     "data": {
      "text/plain": [
       "{'a': 1, 'b': 2, 'c': 3}"
      ]
     },
     "execution_count": 22,
     "metadata": {},
     "output_type": "execute_result"
    }
   ],
   "source": [
    "dict = {\n",
    "    \"a\": 1,\n",
    "    \"b\": 2,\n",
    "    \"c\": 3,\n",
    "}\n",
    "dict"
   ]
  },
  {
   "cell_type": "code",
   "execution_count": 23,
   "metadata": {},
   "outputs": [],
   "source": [
    "dict[ 1 ] = 4"
   ]
  },
  {
   "cell_type": "code",
   "execution_count": 24,
   "metadata": {},
   "outputs": [
    {
     "data": {
      "text/plain": [
       "{'a': 1, 'b': 2, 'c': 3, 1: 4}"
      ]
     },
     "execution_count": 24,
     "metadata": {},
     "output_type": "execute_result"
    }
   ],
   "source": [
    "dict"
   ]
  },
  {
   "cell_type": "code",
   "execution_count": 25,
   "metadata": {},
   "outputs": [
    {
     "name": "stdout",
     "output_type": "stream",
     "text": [
      "4\n"
     ]
    }
   ],
   "source": [
    "print( dict[1] )"
   ]
  },
  {
   "cell_type": "markdown",
   "metadata": {},
   "source": [
    "# Day 10 - Functions with Outpus"
   ]
  },
  {
   "cell_type": "code",
   "execution_count": 27,
   "metadata": {},
   "outputs": [
    {
     "name": "stdout",
     "output_type": "stream",
     "text": [
      "Victor Victor\n"
     ]
    }
   ],
   "source": [
    "# Functions with Outputs\n",
    "\n",
    "def format_name( f_name, l_name ):\n",
    "    f_name = f_name.title()\n",
    "    l_name = l_name.title()\n",
    "\n",
    "    print( f_name, l_name )\n",
    "\n",
    "format_name( \"VICTOR\", 'victor' )"
   ]
  },
  {
   "cell_type": "code",
   "execution_count": 29,
   "metadata": {},
   "outputs": [
    {
     "name": "stdout",
     "output_type": "stream",
     "text": [
      "Victor Victor\n"
     ]
    }
   ],
   "source": [
    "# Using return instead of print:\n",
    "\n",
    "def format_name( f_name, l_name ):\n",
    "    formated_f_name = f_name.title()\n",
    "    formated_l_name = l_name.title()\n",
    "\n",
    "    return f\"{formated_f_name} {formated_l_name}\"\n",
    "\n",
    "formated_string = format_name( \"VICTOR\", 'victor' )\n",
    "print( formated_string )"
   ]
  },
  {
   "cell_type": "code",
   "execution_count": 30,
   "metadata": {},
   "outputs": [
    {
     "name": "stdout",
     "output_type": "stream",
     "text": [
      "Arthur Ladeia\n"
     ]
    }
   ],
   "source": [
    "# ...or\n",
    "\n",
    "print( format_name( \"ArTHUr\", \"LADEIa\") )"
   ]
  },
  {
   "cell_type": "code",
   "execution_count": 33,
   "metadata": {},
   "outputs": [
    {
     "name": "stdout",
     "output_type": "stream",
     "text": [
      "None\n"
     ]
    }
   ],
   "source": [
    "# the keyword return tells the computer to get out of the function:\n",
    "\n",
    "def format_name( f_name, l_name ):\n",
    "    if ( f_name == \"\" ) or ( l_name == \"\" ):\n",
    "        return\n",
    "    formated_f_name = f_name.title()\n",
    "    formated_l_name = l_name.title()\n",
    "\n",
    "    return f\"Result: {formated_f_name} {formated_l_name}\"\n",
    "\n",
    "\n",
    "print( format_name( input( \"What's your first name? \"), input( \"What's your last name\" ) ) )"
   ]
  },
  {
   "cell_type": "code",
   "execution_count": 34,
   "metadata": {},
   "outputs": [
    {
     "name": "stdout",
     "output_type": "stream",
     "text": [
      "You didn't provide valid inputs.\n"
     ]
    }
   ],
   "source": [
    "# the keyword return tells the computer to get out of the function:\n",
    "\n",
    "def format_name( f_name, l_name ):\n",
    "    if ( f_name == \"\" ) or ( l_name == \"\" ):\n",
    "        return \"You didn't provide valid inputs.\"\n",
    "    formated_f_name = f_name.title()\n",
    "    formated_l_name = l_name.title()\n",
    "\n",
    "    return f\"Result: {formated_f_name} {formated_l_name}\"\n",
    "\n",
    "\n",
    "print( format_name( input( \"What's your first name? \"), input( \"What's your last name\" ) ) )"
   ]
  },
  {
   "cell_type": "markdown",
   "metadata": {},
   "source": [
    "### Docstrings"
   ]
  },
  {
   "cell_type": "code",
   "execution_count": null,
   "metadata": {},
   "outputs": [],
   "source": [
    "def format_name( f_name, l_name ):\n",
    "    \"\"\"Take a first and last name and format it to return the title case version of the name.\"\"\"\n",
    "    if ( f_name == \"\" ) or ( l_name == \"\" ):\n",
    "        return \"You didn't provide valid inputs.\"\n",
    "    formated_f_name = f_name.title()\n",
    "    formated_l_name = l_name.title()\n",
    "\n",
    "    return f\"Result: {formated_f_name} {formated_l_name}\""
   ]
  },
  {
   "cell_type": "markdown",
   "metadata": {},
   "source": [
    "# Day 12 - Local vs. Global Scope"
   ]
  },
  {
   "cell_type": "code",
   "execution_count": 35,
   "metadata": {},
   "outputs": [
    {
     "name": "stdout",
     "output_type": "stream",
     "text": [
      "enemies inside function: 2\n",
      "enemies outside function: 1\n"
     ]
    }
   ],
   "source": [
    "################ SCOPE ####################\n",
    "\n",
    "enemies = 1\n",
    "\n",
    "def increase_enemies():\n",
    "    enemies = 2\n",
    "    print( f\"enemies inside function: {enemies}\" )\n",
    "\n",
    "increase_enemies()\n",
    "print( f\"enemies outside function: {enemies}\" )"
   ]
  },
  {
   "cell_type": "code",
   "execution_count": 36,
   "metadata": {},
   "outputs": [
    {
     "name": "stdout",
     "output_type": "stream",
     "text": [
      "2\n"
     ]
    },
    {
     "ename": "NameError",
     "evalue": "name 'potion_strength' is not defined",
     "output_type": "error",
     "traceback": [
      "\u001b[0;31m---------------------------------------------------------------------------\u001b[0m",
      "\u001b[0;31mNameError\u001b[0m                                 Traceback (most recent call last)",
      "\u001b[1;32m/Users/victorladeia/Library/CloudStorage/OneDrive-Personal/100 Days of Code - Python/100_days_of_code_bootcamp/main.ipynb Cell 30\u001b[0m in \u001b[0;36m8\n\u001b[1;32m      <a href='vscode-notebook-cell:/Users/victorladeia/Library/CloudStorage/OneDrive-Personal/100%20Days%20of%20Code%20-%20Python/100_days_of_code_bootcamp/main.ipynb#X54sZmlsZQ%3D%3D?line=4'>5</a>\u001b[0m     \u001b[39mprint\u001b[39m( potion_strength )\n\u001b[1;32m      <a href='vscode-notebook-cell:/Users/victorladeia/Library/CloudStorage/OneDrive-Personal/100%20Days%20of%20Code%20-%20Python/100_days_of_code_bootcamp/main.ipynb#X54sZmlsZQ%3D%3D?line=6'>7</a>\u001b[0m drink_potion()\n\u001b[0;32m----> <a href='vscode-notebook-cell:/Users/victorladeia/Library/CloudStorage/OneDrive-Personal/100%20Days%20of%20Code%20-%20Python/100_days_of_code_bootcamp/main.ipynb#X54sZmlsZQ%3D%3D?line=7'>8</a>\u001b[0m \u001b[39mprint\u001b[39m(potion_strength)\n",
      "\u001b[0;31mNameError\u001b[0m: name 'potion_strength' is not defined"
     ]
    }
   ],
   "source": [
    "# Local Scope\n",
    "\n",
    "def drink_potion():\n",
    "    potion_strength = 2\n",
    "    print( potion_strength )\n",
    "\n",
    "drink_potion()\n",
    "print(potion_strength) # error - potion_strength was only defined on drink_potion() scope."
   ]
  },
  {
   "cell_type": "code",
   "execution_count": 37,
   "metadata": {},
   "outputs": [
    {
     "name": "stdout",
     "output_type": "stream",
     "text": [
      "10\n"
     ]
    }
   ],
   "source": [
    "# Global Scope:\n",
    "\n",
    "player_health = 10\n",
    "\n",
    "def drink_potion():\n",
    "    potion_strength = 2\n",
    "    print( player_health )\n",
    "\n",
    "drink_potion()"
   ]
  },
  {
   "cell_type": "code",
   "execution_count": 41,
   "metadata": {},
   "outputs": [
    {
     "name": "stdout",
     "output_type": "stream",
     "text": [
      "Skeleton\n"
     ]
    }
   ],
   "source": [
    "# There is no block scope:\n",
    "\n",
    "game_level = 3\n",
    "enemies = [ \"Skeleton\", \"Zombie\", \"Alien\"]\n",
    "if game_level < 5 :\n",
    "    new_enemy = enemies[0]\n",
    "print( new_enemy )"
   ]
  },
  {
   "cell_type": "code",
   "execution_count": 1,
   "metadata": {},
   "outputs": [
    {
     "ename": "NameError",
     "evalue": "name 'new_enemy1' is not defined",
     "output_type": "error",
     "traceback": [
      "\u001b[0;31m---------------------------------------------------------------------------\u001b[0m",
      "\u001b[0;31mNameError\u001b[0m                                 Traceback (most recent call last)",
      "\u001b[1;32m/Users/victorladeia/Library/CloudStorage/OneDrive-Personal/100 Days of Code - Python/100_days_of_code_bootcamp/main.ipynb Cell 33\u001b[0m in \u001b[0;36m9\n\u001b[1;32m      <a href='vscode-notebook-cell:/Users/victorladeia/Library/CloudStorage/OneDrive-Personal/100%20Days%20of%20Code%20-%20Python/100_days_of_code_bootcamp/main.ipynb#X60sZmlsZQ%3D%3D?line=5'>6</a>\u001b[0m     \u001b[39mif\u001b[39;00m game_level \u001b[39m<\u001b[39m \u001b[39m5\u001b[39m :\n\u001b[1;32m      <a href='vscode-notebook-cell:/Users/victorladeia/Library/CloudStorage/OneDrive-Personal/100%20Days%20of%20Code%20-%20Python/100_days_of_code_bootcamp/main.ipynb#X60sZmlsZQ%3D%3D?line=6'>7</a>\u001b[0m         new_enemy1 \u001b[39m=\u001b[39m enemies[\u001b[39m0\u001b[39m]\n\u001b[0;32m----> <a href='vscode-notebook-cell:/Users/victorladeia/Library/CloudStorage/OneDrive-Personal/100%20Days%20of%20Code%20-%20Python/100_days_of_code_bootcamp/main.ipynb#X60sZmlsZQ%3D%3D?line=8'>9</a>\u001b[0m \u001b[39mprint\u001b[39m( new_enemy1 )\n",
      "\u001b[0;31mNameError\u001b[0m: name 'new_enemy1' is not defined"
     ]
    }
   ],
   "source": [
    "# There is no block scope:\n",
    "\n",
    "game_level = 3\n",
    "def create_enemy():\n",
    "    enemies = [ \"Skeleton\", \"Zombie\", \"Alien\"]\n",
    "    if game_level < 5 :\n",
    "        new_enemy1 = enemies[0]\n",
    "\n",
    "print( new_enemy1 )"
   ]
  },
  {
   "cell_type": "markdown",
   "metadata": {},
   "source": [
    "## How to modify a Global Variable"
   ]
  },
  {
   "cell_type": "code",
   "execution_count": 2,
   "metadata": {},
   "outputs": [
    {
     "name": "stdout",
     "output_type": "stream",
     "text": [
      "enemies inside function: 2\n",
      "enemies outside funtion: 2\n"
     ]
    }
   ],
   "source": [
    "# Modifying Global Scope\n",
    "\n",
    "enemies = 1\n",
    "\n",
    "def increase_enemies():\n",
    "    global enemies\n",
    "    enemies += 1\n",
    "    print( f\"enemies inside function: {enemies}\" )\n",
    "\n",
    "increase_enemies()\n",
    "print( f\"enemies outside funtion: {enemies}\" )"
   ]
  },
  {
   "cell_type": "code",
   "execution_count": 4,
   "metadata": {},
   "outputs": [
    {
     "name": "stdout",
     "output_type": "stream",
     "text": [
      "enemies inside function: 1\n",
      "enemies outside funtion: 2\n"
     ]
    }
   ],
   "source": [
    "# Modifying Global Scope\n",
    "\n",
    "enemies = 1\n",
    "\n",
    "def increase_enemies():\n",
    "    print( f\"enemies inside function: {enemies}\" )\n",
    "    return enemies + 1\n",
    "\n",
    "enemies = increase_enemies()\n",
    "print( f\"enemies outside funtion: {enemies}\" )"
   ]
  },
  {
   "cell_type": "markdown",
   "metadata": {},
   "source": [
    "## Global Constants:"
   ]
  },
  {
   "cell_type": "code",
   "execution_count": 5,
   "metadata": {},
   "outputs": [],
   "source": [
    "# Python convention for these constants is capital letters\n",
    "\n",
    "PI = 3.14159\n",
    "URL = \"https://www.google.com\"\n"
   ]
  },
  {
   "cell_type": "markdown",
   "metadata": {},
   "source": [
    "# Day 13 - Debugging"
   ]
  },
  {
   "cell_type": "markdown",
   "metadata": {},
   "source": [
    "1. Describe the Problem\n",
    "2. Reproduce the Bug\n",
    "3. Play Computer\n",
    "4. Fix the Errors\n",
    "5. Print is your Friend\n",
    "6. Use a Debugger\n",
    "7. Take a break\n",
    "8. Ask a Friend\n",
    "9. Run Often\n",
    "10. Ask StackOverflow"
   ]
  },
  {
   "cell_type": "markdown",
   "metadata": {},
   "source": [
    "## 1 - Describe the Problem"
   ]
  },
  {
   "cell_type": "code",
   "execution_count": 6,
   "metadata": {},
   "outputs": [],
   "source": [
    "# Describe the problem:\n",
    "\n",
    "# with bug\n",
    "\n",
    "def my_function():\n",
    "    for i in range( 1, 20 ):\n",
    "        if i == 20:\n",
    "            print( \"You got it!\" )\n",
    "my_function()"
   ]
  },
  {
   "cell_type": "code",
   "execution_count": 8,
   "metadata": {},
   "outputs": [
    {
     "name": "stdout",
     "output_type": "stream",
     "text": [
      "You got it!\n"
     ]
    }
   ],
   "source": [
    "# without bug:\n",
    "def my_function():\n",
    "    for i in range( 1, 21 ):\n",
    "        if i == 20:\n",
    "            print( \"You got it!\" )\n",
    "\n",
    "my_function()        "
   ]
  },
  {
   "cell_type": "markdown",
   "metadata": {},
   "source": [
    "## 2 - Reproduce the bug"
   ]
  },
  {
   "cell_type": "code",
   "execution_count": 65,
   "metadata": {},
   "outputs": [
    {
     "name": "stdout",
     "output_type": "stream",
     "text": [
      "❹\n"
     ]
    }
   ],
   "source": [
    "# Reproduce the bug\n",
    "\n",
    "from random import randint\n",
    "\n",
    "dice_imgs = [\"❶\", \"❷\", \"❸\", \"❹\", \"❺\", \"❻\"]\n",
    "dice_num = randint = randint(1, 6)\n",
    "print(dice_imgs[dice_num])"
   ]
  },
  {
   "cell_type": "code",
   "execution_count": 66,
   "metadata": {},
   "outputs": [
    {
     "ename": "IndexError",
     "evalue": "list index out of range",
     "output_type": "error",
     "traceback": [
      "\u001b[0;31m---------------------------------------------------------------------------\u001b[0m",
      "\u001b[0;31mIndexError\u001b[0m                                Traceback (most recent call last)",
      "\u001b[1;32m/Users/victorladeia/Library/CloudStorage/OneDrive-Personal/100 Days of Code - Python/100_days_of_code_bootcamp/main.ipynb Cell 46\u001b[0m in \u001b[0;36m7\n\u001b[1;32m      <a href='vscode-notebook-cell:/Users/victorladeia/Library/CloudStorage/OneDrive-Personal/100%20Days%20of%20Code%20-%20Python/100_days_of_code_bootcamp/main.ipynb#Y122sZmlsZQ%3D%3D?line=4'>5</a>\u001b[0m dice_imgs \u001b[39m=\u001b[39m [\u001b[39m\"\u001b[39m\u001b[39m❶\u001b[39m\u001b[39m\"\u001b[39m, \u001b[39m\"\u001b[39m\u001b[39m❷\u001b[39m\u001b[39m\"\u001b[39m, \u001b[39m\"\u001b[39m\u001b[39m❸\u001b[39m\u001b[39m\"\u001b[39m, \u001b[39m\"\u001b[39m\u001b[39m❹\u001b[39m\u001b[39m\"\u001b[39m, \u001b[39m\"\u001b[39m\u001b[39m❺\u001b[39m\u001b[39m\"\u001b[39m, \u001b[39m\"\u001b[39m\u001b[39m❻\u001b[39m\u001b[39m\"\u001b[39m]\n\u001b[1;32m      <a href='vscode-notebook-cell:/Users/victorladeia/Library/CloudStorage/OneDrive-Personal/100%20Days%20of%20Code%20-%20Python/100_days_of_code_bootcamp/main.ipynb#Y122sZmlsZQ%3D%3D?line=5'>6</a>\u001b[0m dice_num \u001b[39m=\u001b[39m randint \u001b[39m=\u001b[39m \u001b[39m6\u001b[39m\n\u001b[0;32m----> <a href='vscode-notebook-cell:/Users/victorladeia/Library/CloudStorage/OneDrive-Personal/100%20Days%20of%20Code%20-%20Python/100_days_of_code_bootcamp/main.ipynb#Y122sZmlsZQ%3D%3D?line=6'>7</a>\u001b[0m \u001b[39mprint\u001b[39m(dice_imgs[dice_num])\n",
      "\u001b[0;31mIndexError\u001b[0m: list index out of range"
     ]
    }
   ],
   "source": [
    "# Reproducing...\n",
    "\n",
    "from random import randint\n",
    "\n",
    "dice_imgs = [\"❶\", \"❷\", \"❸\", \"❹\", \"❺\", \"❻\"]\n",
    "dice_num = randint = 6\n",
    "print(dice_imgs[dice_num])"
   ]
  },
  {
   "cell_type": "code",
   "execution_count": 94,
   "metadata": {},
   "outputs": [
    {
     "name": "stdout",
     "output_type": "stream",
     "text": [
      "❸\n"
     ]
    }
   ],
   "source": [
    "# Fixing...\n",
    "\n",
    "from random import randint\n",
    "\n",
    "dice_imgs = [\"❶\", \"❷\", \"❸\", \"❹\", \"❺\", \"❻\"]\n",
    "dice_num = randint = randint( 0, 5 )\n",
    "print(dice_imgs[dice_num])"
   ]
  },
  {
   "cell_type": "markdown",
   "metadata": {},
   "source": [
    "## 3 - Play Computer"
   ]
  },
  {
   "cell_type": "code",
   "execution_count": 95,
   "metadata": {},
   "outputs": [],
   "source": [
    "# Play Computer:\n",
    "\n",
    "year = int( input( \"What's your year of birthday? \" ) )\n",
    "if year > 1980 and year < 1994:\n",
    "    print( \"You are a millenial.\" )\n",
    "elif year > 1994:\n",
    "    print( \"You are a Gen Z\" )"
   ]
  },
  {
   "cell_type": "code",
   "execution_count": null,
   "metadata": {},
   "outputs": [],
   "source": [
    "# Fixing:\n",
    "\n",
    "year = int( input( \"What's your year of birthday? \" ) )\n",
    "if year > 1980 and year <= 1994:\n",
    "    print( \"You are a millenial.\" )\n",
    "elif year > 1994:\n",
    "    print( \"You are a Gen Z\" )"
   ]
  },
  {
   "cell_type": "markdown",
   "metadata": {},
   "source": [
    "## 4 - Fix the Errors"
   ]
  },
  {
   "cell_type": "code",
   "execution_count": 96,
   "metadata": {},
   "outputs": [
    {
     "ename": "IndentationError",
     "evalue": "expected an indented block after 'if' statement on line 3 (441720428.py, line 4)",
     "output_type": "error",
     "traceback": [
      "\u001b[0;36m  Cell \u001b[0;32mIn [96], line 4\u001b[0;36m\u001b[0m\n\u001b[0;31m    print(\"You can drive at age {age}.\")\u001b[0m\n\u001b[0m    ^\u001b[0m\n\u001b[0;31mIndentationError\u001b[0m\u001b[0;31m:\u001b[0m expected an indented block after 'if' statement on line 3\n"
     ]
    }
   ],
   "source": [
    "# Fix the Errors\n",
    "age = input(\"How old are you?\")\n",
    "if age > 18:\n",
    "print(\"You can drive at age {age}.\")"
   ]
  },
  {
   "cell_type": "code",
   "execution_count": 97,
   "metadata": {},
   "outputs": [
    {
     "ename": "TypeError",
     "evalue": "'>' not supported between instances of 'str' and 'int'",
     "output_type": "error",
     "traceback": [
      "\u001b[0;31m---------------------------------------------------------------------------\u001b[0m",
      "\u001b[0;31mTypeError\u001b[0m                                 Traceback (most recent call last)",
      "\u001b[1;32m/Users/victorladeia/Library/CloudStorage/OneDrive-Personal/100 Days of Code - Python/100_days_of_code_bootcamp/main.ipynb Cell 53\u001b[0m in \u001b[0;36m3\n\u001b[1;32m      <a href='vscode-notebook-cell:/Users/victorladeia/Library/CloudStorage/OneDrive-Personal/100%20Days%20of%20Code%20-%20Python/100_days_of_code_bootcamp/main.ipynb#Y136sZmlsZQ%3D%3D?line=0'>1</a>\u001b[0m \u001b[39m# Fix the Errors\u001b[39;00m\n\u001b[1;32m      <a href='vscode-notebook-cell:/Users/victorladeia/Library/CloudStorage/OneDrive-Personal/100%20Days%20of%20Code%20-%20Python/100_days_of_code_bootcamp/main.ipynb#Y136sZmlsZQ%3D%3D?line=1'>2</a>\u001b[0m age \u001b[39m=\u001b[39m \u001b[39minput\u001b[39m(\u001b[39m\"\u001b[39m\u001b[39mHow old are you?\u001b[39m\u001b[39m\"\u001b[39m)\n\u001b[0;32m----> <a href='vscode-notebook-cell:/Users/victorladeia/Library/CloudStorage/OneDrive-Personal/100%20Days%20of%20Code%20-%20Python/100_days_of_code_bootcamp/main.ipynb#Y136sZmlsZQ%3D%3D?line=2'>3</a>\u001b[0m \u001b[39mif\u001b[39;00m age \u001b[39m>\u001b[39;49m \u001b[39m18\u001b[39;49m:\n\u001b[1;32m      <a href='vscode-notebook-cell:/Users/victorladeia/Library/CloudStorage/OneDrive-Personal/100%20Days%20of%20Code%20-%20Python/100_days_of_code_bootcamp/main.ipynb#Y136sZmlsZQ%3D%3D?line=3'>4</a>\u001b[0m     \u001b[39mprint\u001b[39m(\u001b[39m\"\u001b[39m\u001b[39mYou can drive at age \u001b[39m\u001b[39m{age}\u001b[39;00m\u001b[39m.\u001b[39m\u001b[39m\"\u001b[39m)\n",
      "\u001b[0;31mTypeError\u001b[0m: '>' not supported between instances of 'str' and 'int'"
     ]
    }
   ],
   "source": [
    "# Fix the Errors - first:\n",
    "age = input(\"How old are you?\")\n",
    "if age > 18:\n",
    "    print(\"You can drive at age {age}.\")"
   ]
  },
  {
   "cell_type": "code",
   "execution_count": 99,
   "metadata": {},
   "outputs": [
    {
     "name": "stdout",
     "output_type": "stream",
     "text": [
      "You can drive at age {age}.\n"
     ]
    }
   ],
   "source": [
    "# Fix the Errors - second:\n",
    "age = int( input(\"How old are you?\") )\n",
    "if age > 18:\n",
    "    print(\"You can drive at age {age}.\")"
   ]
  },
  {
   "cell_type": "code",
   "execution_count": 101,
   "metadata": {},
   "outputs": [
    {
     "name": "stdout",
     "output_type": "stream",
     "text": [
      "You can drive at age 19.\n"
     ]
    }
   ],
   "source": [
    "# Fix the Errors - third:\n",
    "age = int( input(\"How old are you?\") )\n",
    "if age > 18:\n",
    "    print(f\"You can drive at age {age}.\")"
   ]
  },
  {
   "cell_type": "markdown",
   "metadata": {},
   "source": [
    "## 5 - Print is your Friend"
   ]
  },
  {
   "cell_type": "code",
   "execution_count": 102,
   "metadata": {},
   "outputs": [
    {
     "name": "stdout",
     "output_type": "stream",
     "text": [
      "pages = 350\n",
      "word_per_page = 0\n",
      "0\n"
     ]
    }
   ],
   "source": [
    "#Print is Your Friend\n",
    "pages = 0\n",
    "word_per_page = 0\n",
    "pages = int(input(\"Number of pages: \"))\n",
    "word_per_page == int(input(\"Number of words per page: \"))\n",
    "total_words = pages * word_per_page\n",
    "print( f\"pages = {pages}\" )\n",
    "print( f\"word_per_page = {word_per_page}\" )\n",
    "print(total_words)"
   ]
  },
  {
   "cell_type": "code",
   "execution_count": 103,
   "metadata": {},
   "outputs": [
    {
     "name": "stdout",
     "output_type": "stream",
     "text": [
      "pages = 150\n",
      "word_per_page = 300\n",
      "45000\n"
     ]
    }
   ],
   "source": [
    "#Print is Your Friend\n",
    "pages = 0\n",
    "word_per_page = 0\n",
    "pages = int(input(\"Number of pages: \"))\n",
    "word_per_page = int(input(\"Number of words per page: \"))\n",
    "total_words = pages * word_per_page\n",
    "print( f\"pages = {pages}\" )\n",
    "print( f\"word_per_page = {word_per_page}\" )\n",
    "print(total_words)"
   ]
  },
  {
   "cell_type": "markdown",
   "metadata": {},
   "source": [
    "## 6 - Use a debugger:"
   ]
  },
  {
   "cell_type": "code",
   "execution_count": 106,
   "metadata": {},
   "outputs": [
    {
     "name": "stdout",
     "output_type": "stream",
     "text": [
      "[26]\n"
     ]
    }
   ],
   "source": [
    "def mutate( a_list ):\n",
    "    b_list = []\n",
    "    for item in a_list:\n",
    "        new_item = item * 2\n",
    "    b_list.append( new_item )\n",
    "    print( b_list )\n",
    "\n",
    "mutate([1, 2, 3, 5, 8, 13])"
   ]
  },
  {
   "cell_type": "code",
   "execution_count": 105,
   "metadata": {},
   "outputs": [
    {
     "name": "stdout",
     "output_type": "stream",
     "text": [
      "[2, 4, 6, 10, 16, 26]\n"
     ]
    }
   ],
   "source": [
    "# Fixing:\n",
    "\n",
    "def mutate( a_list ):\n",
    "    b_list = []\n",
    "    for item in a_list:\n",
    "        new_item = item * 2\n",
    "        b_list.append( new_item )\n",
    "    print( b_list )\n",
    "\n",
    "mutate([1, 2, 3, 5, 8, 13])"
   ]
  },
  {
   "cell_type": "markdown",
   "metadata": {},
   "source": [
    "## Coding Exercises"
   ]
  },
  {
   "cell_type": "markdown",
   "metadata": {},
   "source": [
    "# Day 14"
   ]
  },
  {
   "cell_type": "code",
   "execution_count": null,
   "metadata": {},
   "outputs": [],
   "source": [
    "range"
   ]
  },
  {
   "cell_type": "markdown",
   "metadata": {},
   "source": [
    "# Day 15 - Local Development Environment Setup & And the Coffee Machine"
   ]
  },
  {
   "cell_type": "markdown",
   "metadata": {},
   "source": []
  },
  {
   "cell_type": "markdown",
   "metadata": {},
   "source": [
    "# Day 16 - Object Oriented Programming (OOP)"
   ]
  },
  {
   "cell_type": "markdown",
   "metadata": {},
   "source": [
    "## Classes and Objects:\n",
    "\n",
    "HAS vs DOES\n",
    "\n",
    "\n",
    "\n"
   ]
  },
  {
   "cell_type": "code",
   "execution_count": 1,
   "metadata": {},
   "outputs": [
    {
     "name": "stdout",
     "output_type": "stream",
     "text": [
      "<turtle.Turtle object at 0x106235450>\n"
     ]
    },
    {
     "ename": "",
     "evalue": "",
     "output_type": "error",
     "traceback": [
      "\u001b[1;31mThe Kernel crashed while executing code in the the current cell or a previous cell. Please review the code in the cell(s) to identify a possible cause of the failure. Click <a href='https://aka.ms/vscodeJupyterKernelCrash'>here</a> for more info. View Jupyter <a href='command:jupyter.viewOutput'>log</a> for further details."
     ]
    }
   ],
   "source": [
    "import turtle\n",
    "\n",
    "timmy = turtle.Turtle()\n",
    "print(timmy)"
   ]
  },
  {
   "cell_type": "code",
   "execution_count": 3,
   "metadata": {},
   "outputs": [
    {
     "name": "stdout",
     "output_type": "stream",
     "text": [
      "300\n"
     ]
    }
   ],
   "source": [
    "from turtle import (Turtle\n",
    "                    , Screen)\n",
    "\n",
    "my_screen = Screen()\n",
    "print(my_screen.canvheight)"
   ]
  },
  {
   "cell_type": "code",
   "execution_count": 1,
   "metadata": {},
   "outputs": [
    {
     "name": "stdout",
     "output_type": "stream",
     "text": [
      "300\n"
     ]
    },
    {
     "ename": "",
     "evalue": "",
     "output_type": "error",
     "traceback": [
      "\u001b[1;31mThe Kernel crashed while executing code in the the current cell or a previous cell. Please review the code in the cell(s) to identify a possible cause of the failure. Click <a href='https://aka.ms/vscodeJupyterKernelCrash'>here</a> for more info. View Jupyter <a href='command:jupyter.viewOutput'>log</a> for further details."
     ]
    }
   ],
   "source": [
    "from turtle import (Turtle\n",
    "                    , Screen)\n",
    "\n",
    "my_screen = Screen()\n",
    "print(my_screen.canvheight)\n",
    "my_screen.exitonclick()"
   ]
  },
  {
   "cell_type": "code",
   "execution_count": 1,
   "metadata": {},
   "outputs": [
    {
     "ename": "ModuleNotFoundError",
     "evalue": "No module named 'prettytable'",
     "output_type": "error",
     "traceback": [
      "\u001b[0;31m---------------------------------------------------------------------------\u001b[0m",
      "\u001b[0;31mModuleNotFoundError\u001b[0m                       Traceback (most recent call last)",
      "\u001b[1;32m/Users/victorladeia/Library/CloudStorage/OneDrive-Personal/100 Days of Code - Python/100_days_of_code_bootcamp/main.ipynb Cell 72\u001b[0m in \u001b[0;36m1\n\u001b[0;32m----> <a href='vscode-notebook-cell:/Users/victorladeia/Library/CloudStorage/OneDrive-Personal/100%20Days%20of%20Code%20-%20Python/100_days_of_code_bootcamp/main.ipynb#Y135sZmlsZQ%3D%3D?line=0'>1</a>\u001b[0m \u001b[39mimport\u001b[39;00m \u001b[39mprettytable\u001b[39;00m\n",
      "\u001b[0;31mModuleNotFoundError\u001b[0m: No module named 'prettytable'"
     ]
    }
   ],
   "source": [
    "import prettytable"
   ]
  },
  {
   "cell_type": "markdown",
   "metadata": {},
   "source": [
    "# Day 17 - The Quiz Project and the Benefits of OOP"
   ]
  },
  {
   "cell_type": "markdown",
   "metadata": {},
   "source": [
    "## How to create your own class on Python:"
   ]
  },
  {
   "cell_type": "code",
   "execution_count": 7,
   "metadata": {},
   "outputs": [
    {
     "name": "stdout",
     "output_type": "stream",
     "text": [
      "Angela\n"
     ]
    }
   ],
   "source": [
    "class User:\n",
    "    pass\n",
    "\n",
    "\n",
    "user_1 = User()\n",
    "user_1.id = \"001\"\n",
    "user_1.username = \"Angela\"\n",
    "\n",
    "print(user_1.username)\n",
    "\n",
    "user_2 = User()\n",
    "user_2.id = \"002\"\n",
    "user_2.username = \"jack\""
   ]
  },
  {
   "cell_type": "code",
   "execution_count": null,
   "metadata": {},
   "outputs": [],
   "source": []
  },
  {
   "cell_type": "markdown",
   "metadata": {},
   "source": [
    "## Pascal Case vs Camel Case vs Snake Case:\n",
    "\n",
    "PascalCase | camelCase | snake_case"
   ]
  },
  {
   "cell_type": "markdown",
   "metadata": {},
   "source": [
    "## Working with Attributes, Class Constructor and __init__():"
   ]
  },
  {
   "cell_type": "code",
   "execution_count": 2,
   "metadata": {},
   "outputs": [
    {
     "name": "stdout",
     "output_type": "stream",
     "text": [
      "new user being created...\n"
     ]
    }
   ],
   "source": [
    "class User_1:\n",
    "    \n",
    "    def __init__(self) -> None:\n",
    "        print(\"new user being created...\")\n",
    "    \n",
    "\n",
    "\n",
    "user_1 = User()"
   ]
  },
  {
   "cell_type": "markdown",
   "metadata": {},
   "source": [
    "The following code is equivalent with the one below it."
   ]
  },
  {
   "cell_type": "code",
   "execution_count": 3,
   "metadata": {},
   "outputs": [],
   "source": [
    "class Car:\n",
    "    def __init__(self, seats) -> None:\n",
    "        self.seats = seats\n",
    "\n",
    "my_car = Car(5)"
   ]
  },
  {
   "cell_type": "code",
   "execution_count": 4,
   "metadata": {},
   "outputs": [],
   "source": [
    "class Car:\n",
    "    pass\n",
    "\n",
    "my_car.seats = 5"
   ]
  },
  {
   "cell_type": "code",
   "execution_count": 15,
   "metadata": {},
   "outputs": [
    {
     "name": "stdout",
     "output_type": "stream",
     "text": [
      "001\n",
      "angela\n"
     ]
    }
   ],
   "source": [
    "class User:\n",
    "\n",
    "    def __init__(self, user_id, username): # when we create parameters inside __init__(), when we create a new object, we need to provide the parameter's values.\n",
    "        self.id = user_id\n",
    "        self.username = username\n",
    "\n",
    "user_1 = User(\"001\", \"angela\")\n",
    "user_2 = User(\"002\", \"jack\")\n",
    "print(user_1.id)\n",
    "print(user_1.username)"
   ]
  },
  {
   "cell_type": "markdown",
   "metadata": {},
   "source": [
    "Some times we need to create attributes with a starting value:"
   ]
  },
  {
   "cell_type": "code",
   "execution_count": 18,
   "metadata": {},
   "outputs": [
    {
     "name": "stdout",
     "output_type": "stream",
     "text": [
      "User victor, id: 003 has 0 followers\n"
     ]
    }
   ],
   "source": [
    "class User:\n",
    "\n",
    "    def __init__(self, id, username):\n",
    "        self.id = id\n",
    "        self.username = username\n",
    "        self.followers = 0\n",
    "\n",
    "user_1 = User(\"003\", \"victor\")\n",
    "\n",
    "print(f\"User {user_1.username}, id: {user_1.id} has {user_1.followers} followers\")"
   ]
  },
  {
   "cell_type": "code",
   "execution_count": null,
   "metadata": {},
   "outputs": [],
   "source": []
  }
 ],
 "metadata": {
  "kernelspec": {
   "display_name": "base",
   "language": "python",
   "name": "python3"
  },
  "language_info": {
   "codemirror_mode": {
    "name": "ipython",
    "version": 3
   },
   "file_extension": ".py",
   "mimetype": "text/x-python",
   "name": "python",
   "nbconvert_exporter": "python",
   "pygments_lexer": "ipython3",
   "version": "3.10.6"
  },
  "orig_nbformat": 4
 },
 "nbformat": 4,
 "nbformat_minor": 2
}
