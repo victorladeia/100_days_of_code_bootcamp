{
 "cells": [
  {
   "cell_type": "markdown",
   "metadata": {},
   "source": [
    "# Day 9: Python Dictionary -Deep Dive"
   ]
  },
  {
   "cell_type": "code",
   "execution_count": 14,
   "metadata": {},
   "outputs": [],
   "source": [
    "programming_dictionary = {\n",
    "    \"Bug\": \"An erro in a program tha prevent the program from running as expected.\",\n",
    "    \"Function\": \"A piece of code that you can easily call over and over again.\"\n",
    "}"
   ]
  },
  {
   "cell_type": "code",
   "execution_count": 9,
   "metadata": {},
   "outputs": [
    {
     "name": "stdout",
     "output_type": "stream",
     "text": [
      "A piece of code that you can easily call over and over again.\n"
     ]
    }
   ],
   "source": [
    "# Retrievinf items from a dictionary:\n",
    "print( programming_dictionary[\"Function\"] )"
   ]
  },
  {
   "cell_type": "code",
   "execution_count": 10,
   "metadata": {},
   "outputs": [],
   "source": [
    "# Adding new items to dictionary:\n",
    "programming_dictionary[ \"Loop\" ] = \"The action of doing something over and over again.\""
   ]
  },
  {
   "cell_type": "code",
   "execution_count": 11,
   "metadata": {},
   "outputs": [
    {
     "data": {
      "text/plain": [
       "{'Bug': 'An erro in a program tha prevent the program from running as expected.',\n",
       " 'Function': 'A piece of code that you can easily call over and over again.',\n",
       " 'Loop': 'The action of doing something over and over again.'}"
      ]
     },
     "execution_count": 11,
     "metadata": {},
     "output_type": "execute_result"
    }
   ],
   "source": [
    "programming_dictionary"
   ]
  },
  {
   "cell_type": "code",
   "execution_count": 12,
   "metadata": {},
   "outputs": [],
   "source": [
    "# Create an empty dictionary.\n",
    "empty_dictionary = {}\n"
   ]
  },
  {
   "cell_type": "code",
   "execution_count": 13,
   "metadata": {},
   "outputs": [
    {
     "data": {
      "text/plain": [
       "{}"
      ]
     },
     "execution_count": 13,
     "metadata": {},
     "output_type": "execute_result"
    }
   ],
   "source": [
    "# Wipe an existing dictionary:\n",
    "programming_dictionary = {}\n",
    "programming_dictionary"
   ]
  },
  {
   "cell_type": "code",
   "execution_count": 16,
   "metadata": {},
   "outputs": [
    {
     "data": {
      "text/plain": [
       "{'Bug': 'A moth in your computer.',\n",
       " 'Function': 'A piece of code that you can easily call over and over again.'}"
      ]
     },
     "execution_count": 16,
     "metadata": {},
     "output_type": "execute_result"
    }
   ],
   "source": [
    "# Edit an item in a dictionary:\n",
    "programming_dictionary[ \"Bug\" ] = \"A moth in your computer.\"\n",
    "programming_dictionary"
   ]
  },
  {
   "cell_type": "code",
   "execution_count": 17,
   "metadata": {},
   "outputs": [
    {
     "name": "stdout",
     "output_type": "stream",
     "text": [
      "Bug\n",
      "A moth in your computer.\n",
      "Function\n",
      "A piece of code that you can easily call over and over again.\n"
     ]
    }
   ],
   "source": [
    "# Loop through a dictionary:\n",
    "for key in programming_dictionary:\n",
    "    print( key )\n",
    "    print( programming_dictionary[ key ] )"
   ]
  },
  {
   "cell_type": "markdown",
   "metadata": {},
   "source": [
    "### Nesting:"
   ]
  },
  {
   "cell_type": "code",
   "execution_count": 19,
   "metadata": {},
   "outputs": [],
   "source": [
    "capitals = {\n",
    "    \"France\": \"Paris\",\n",
    "    \"German\": \"Berlin\",\n",
    "}\n",
    "\n",
    "# Nesting a List in a Dictionary:\n",
    "\n",
    "travel_log = {\n",
    "    \"France\": [ \"Paris\", \"Lille\", \"Dijon\" ],\n",
    "    \"Germany\": [ \"Berlin\", \"Hamburg\", \"Stuttgart\" ],\n",
    "}"
   ]
  },
  {
   "cell_type": "code",
   "execution_count": 21,
   "metadata": {},
   "outputs": [],
   "source": [
    "# Nesting a dictionary into a dictionary:\n",
    "\n",
    "travel_log = {\n",
    "    \"France\": {\n",
    "        \"city_name\": [ \"Paris\", \"Lille\", \"Dijon\" ],\n",
    "        \"cities_visited\": 3\n",
    "    },\n",
    "    \"German\": {\n",
    "        \"city_name\": [ \"Berlin\", \"Hamburg\", \"Stuttgart\" ],\n",
    "        \"cities_visited\": 3\n",
    "    }\n",
    "}"
   ]
  },
  {
   "cell_type": "markdown",
   "metadata": {},
   "source": [
    "### Nesting a Dictionary in a List"
   ]
  },
  {
   "cell_type": "code",
   "execution_count": null,
   "metadata": {},
   "outputs": [],
   "source": [
    "travel_log = [\n",
    "    {\n",
    "        \"country\": \"France\",\n",
    "        \"cities_visited\": [ \"Paris\", \"Lille\", \"Dijon\" ],\n",
    "        \"total_visits\": 12\n",
    "    },\n",
    "    {\n",
    "        \"country\": \"German\",\n",
    "        \"city_name\": [ \"Berlin\", \"Hamburg\", \"Stuttgart\" ],\n",
    "        \"cities_visited\": 5\n",
    "    }\n",
    "]"
   ]
  },
  {
   "cell_type": "markdown",
   "metadata": {},
   "source": [
    "#### Testing cases for exercises:"
   ]
  },
  {
   "cell_type": "code",
   "execution_count": 22,
   "metadata": {},
   "outputs": [
    {
     "data": {
      "text/plain": [
       "{'a': 1, 'b': 2, 'c': 3}"
      ]
     },
     "execution_count": 22,
     "metadata": {},
     "output_type": "execute_result"
    }
   ],
   "source": [
    "dict = {\n",
    "    \"a\": 1,\n",
    "    \"b\": 2,\n",
    "    \"c\": 3,\n",
    "}\n",
    "dict"
   ]
  },
  {
   "cell_type": "code",
   "execution_count": 23,
   "metadata": {},
   "outputs": [],
   "source": [
    "dict[ 1 ] = 4"
   ]
  },
  {
   "cell_type": "code",
   "execution_count": 24,
   "metadata": {},
   "outputs": [
    {
     "data": {
      "text/plain": [
       "{'a': 1, 'b': 2, 'c': 3, 1: 4}"
      ]
     },
     "execution_count": 24,
     "metadata": {},
     "output_type": "execute_result"
    }
   ],
   "source": [
    "dict"
   ]
  },
  {
   "cell_type": "code",
   "execution_count": 25,
   "metadata": {},
   "outputs": [
    {
     "name": "stdout",
     "output_type": "stream",
     "text": [
      "4\n"
     ]
    }
   ],
   "source": [
    "print( dict[1] )"
   ]
  },
  {
   "cell_type": "code",
   "execution_count": null,
   "metadata": {},
   "outputs": [],
   "source": []
  }
 ],
 "metadata": {
  "kernelspec": {
   "display_name": "base",
   "language": "python",
   "name": "python3"
  },
  "language_info": {
   "codemirror_mode": {
    "name": "ipython",
    "version": 3
   },
   "file_extension": ".py",
   "mimetype": "text/x-python",
   "name": "python",
   "nbconvert_exporter": "python",
   "pygments_lexer": "ipython3",
   "version": "3.10.6"
  },
  "orig_nbformat": 4
 },
 "nbformat": 4,
 "nbformat_minor": 2
}
