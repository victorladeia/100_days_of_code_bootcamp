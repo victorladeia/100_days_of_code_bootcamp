{
 "cells": [
  {
   "cell_type": "markdown",
   "metadata": {},
   "source": [
    "### Control Flow"
   ]
  },
  {
   "cell_type": "markdown",
   "metadata": {},
   "source": [
    "### Comparison Operators:\n",
    "\n",
    "|Operator|Meaning|\n",
    "|:--------:|:-------:|\n",
    "|>|Greater than|\n",
    "|<|Less than|\n",
    "|>=|Greater than|\n",
    "|<=|Greater than or equal to|\n",
    "|==|Less than or equal to|\n",
    "|!=|Not equal to|"
   ]
  },
  {
   "cell_type": "markdown",
   "metadata": {},
   "source": [
    "### Nested if Statements"
   ]
  },
  {
   "cell_type": "code",
   "execution_count": 1,
   "metadata": {},
   "outputs": [
    {
     "name": "stdout",
     "output_type": "stream",
     "text": [
      "Welcome to the rollercoasted!\n",
      "You can ride the rollercoaster!\n",
      "Please pay $12\n"
     ]
    }
   ],
   "source": [
    "print( \"Welcome to the rollercoasted!\" )\n",
    "height = int( input( \"What is your height in cm? \" ) )\n",
    "\n",
    "if height >= 120:\n",
    "    print( \"You can ride the rollercoaster!\" )\n",
    "    age = int( input( \"What is your age?\" ) )\n",
    "    if age < 12:\n",
    "        print( \"Please pay $5.\" )\n",
    "    elif age <= 18:\n",
    "        print( \"Please pay $7\" )\n",
    "    else:\n",
    "        print( \"Please pay $12\" ) \n",
    "else:\n",
    "    print( \"Sorry, you have to grow taller before you can ride.\" )"
   ]
  },
  {
   "cell_type": "markdown",
   "metadata": {},
   "source": [
    "### Multiple if Statements:"
   ]
  },
  {
   "cell_type": "code",
   "execution_count": 2,
   "metadata": {},
   "outputs": [
    {
     "name": "stdout",
     "output_type": "stream",
     "text": [
      "Welcome to the rollercoasted!\n",
      "You can ride the rollercoaster!\n",
      "Please pay $12\n",
      "Your final bill is $15.\n"
     ]
    }
   ],
   "source": [
    "print( \"Welcome to the rollercoasted!\" )\n",
    "height = int( input( \"What is your height in cm? \" ) )\n",
    "\n",
    "bill = 0\n",
    "\n",
    "if height >= 120:\n",
    "    print( \"You can ride the rollercoaster!\" )\n",
    "    age = int( input( \"What is your age?\" ) )\n",
    "    if age < 12:\n",
    "        bill = 5\n",
    "        print( \"Child tickets are $5.\" )\n",
    "    elif age <= 18:\n",
    "        bill = 7\n",
    "        print( \"Youth tickets are $7\" )\n",
    "    else:\n",
    "        bill = 12\n",
    "        print( \"Adult tickets are $12\" ) \n",
    "\n",
    "    wants_photo = input ( \"Do you want a photo taken? Y or N. \" )\n",
    "\n",
    "    if wants_photo == \"Y\":\n",
    "        bill += 3\n",
    "\n",
    "    print( f\"Your final bill is ${bill}.\" )\n",
    "    \n",
    "else:\n",
    "    print( \"Sorry, you have to grow taller before you can ride.\" )"
   ]
  }
 ],
 "metadata": {
  "kernelspec": {
   "display_name": "base",
   "language": "python",
   "name": "python3"
  },
  "language_info": {
   "codemirror_mode": {
    "name": "ipython",
    "version": 3
   },
   "file_extension": ".py",
   "mimetype": "text/x-python",
   "name": "python",
   "nbconvert_exporter": "python",
   "pygments_lexer": "ipython3",
   "version": "3.10.6"
  },
  "orig_nbformat": 4
 },
 "nbformat": 4,
 "nbformat_minor": 2
}
